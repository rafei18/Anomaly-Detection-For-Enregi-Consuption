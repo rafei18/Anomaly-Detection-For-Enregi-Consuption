{
  "cells": [
    {
      "cell_type": "code",
      "execution_count": 1,
      "metadata": {
        "id": "yfzf6TzP2jfM"
      },
      "outputs": [],
      "source": [
        "import numpy as np\n",
        "import pandas as pd\n",
        "import matplotlib.pyplot as plt\n",
        "\n",
        "from sklearn.cluster import KMeans\n",
        "import datetime\n",
        "\n",
        "import pickle\n",
        "\n",
        "import random\n",
        "\n",
        "import torch.nn as nn"
      ]
    },
    {
      "cell_type": "code",
      "execution_count": 2,
      "metadata": {
        "colab": {
          "base_uri": "https://localhost:8080/"
        },
        "id": "k975w6cC20NC",
        "outputId": "7e76a6a7-119b-4c91-de88-59cfa3b327de"
      },
      "outputs": [
        {
          "name": "stdout",
          "output_type": "stream",
          "text": [
            "Thu Sep 12 12:54:15 2024       \n",
            "+---------------------------------------------------------------------------------------+\n",
            "| NVIDIA-SMI 535.104.05             Driver Version: 535.104.05   CUDA Version: 12.2     |\n",
            "|-----------------------------------------+----------------------+----------------------+\n",
            "| GPU  Name                 Persistence-M | Bus-Id        Disp.A | Volatile Uncorr. ECC |\n",
            "| Fan  Temp   Perf          Pwr:Usage/Cap |         Memory-Usage | GPU-Util  Compute M. |\n",
            "|                                         |                      |               MIG M. |\n",
            "|=========================================+======================+======================|\n",
            "|   0  Tesla T4                       Off | 00000000:00:04.0 Off |                    0 |\n",
            "| N/A   39C    P8               9W /  70W |      0MiB / 15360MiB |      0%      Default |\n",
            "|                                         |                      |                  N/A |\n",
            "+-----------------------------------------+----------------------+----------------------+\n",
            "                                                                                         \n",
            "+---------------------------------------------------------------------------------------+\n",
            "| Processes:                                                                            |\n",
            "|  GPU   GI   CI        PID   Type   Process name                            GPU Memory |\n",
            "|        ID   ID                                                             Usage      |\n",
            "|=======================================================================================|\n",
            "|  No running processes found                                                           |\n",
            "+---------------------------------------------------------------------------------------+\n"
          ]
        }
      ],
      "source": [
        "gpu_info = !nvidia-smi\n",
        "gpu_info = '\\n'.join(gpu_info)\n",
        "if gpu_info.find('failed') >= 0:\n",
        "  print('Not connected to a GPU')\n",
        "else:\n",
        "  print(gpu_info)"
      ]
    },
    {
      "cell_type": "code",
      "execution_count": 3,
      "metadata": {
        "id": "AhMxk1xW20PW"
      },
      "outputs": [],
      "source": [
        "import torch.nn as nn\n",
        "import torch\n",
        "import torch.nn as nn\n",
        "import torch.optim as optim\n",
        "import torch.utils.data\n",
        "\n",
        "\n",
        "from torchsummary import summary\n",
        "\n",
        "from sklearn.preprocessing import MinMaxScaler\n",
        "from sklearn.preprocessing import StandardScaler\n",
        "\n",
        "from sklearn.metrics import accuracy_score, recall_score, f1_score\n",
        "\n",
        "from sklearn.metrics import accuracy_score, f1_score, recall_score, confusion_matrix"
      ]
    },
    {
      "cell_type": "code",
      "execution_count": 4,
      "metadata": {
        "colab": {
          "base_uri": "https://localhost:8080/"
        },
        "id": "EF1JPsI220R8",
        "outputId": "e7eb0fb9-96ad-4d68-98d2-3bf9ae4e0269"
      },
      "outputs": [
        {
          "name": "stdout",
          "output_type": "stream",
          "text": [
            "Mounted at /content/drive\n"
          ]
        }
      ],
      "source": [
        "from google.colab import drive\n",
        "drive.mount('/content/drive')"
      ]
    },
    {
      "cell_type": "code",
      "execution_count": 5,
      "metadata": {
        "id": "-k7ODB6020UM"
      },
      "outputs": [],
      "source": [
        "df1 = pd.read_csv('/content/drive/MyDrive/code_H2_/fridge_freezer/refit_normal_consumption_fridge_freezer/df_H15_fridge_freezer_normal.csv')\n",
        "df2 = pd.read_csv('/content/drive/MyDrive/code_H2_/fridge_freezer/refit_normal_consumption_fridge_freezer/df_H2_fridge_freezer_normal.csv')\n",
        "df3 = pd.read_csv('/content/drive/MyDrive/code_H2_/fridge_freezer/refit_normal_consumption_fridge_freezer/df_h9_fridge_freezer_normal.csv')\n",
        "df4 = pd.read_csv('/content/drive/MyDrive/code_H2_/fridge_freezer/house3_anotated.csv')\n"
      ]
    },
    {
      "cell_type": "code",
      "execution_count": 6,
      "metadata": {
        "colab": {
          "base_uri": "https://localhost:8080/",
          "height": 285
        },
        "id": "jm7X4bPZqklb",
        "outputId": "d5f9b0ec-192b-4e21-e8ba-82c34769dcb5"
      },
      "outputs": [
        {
          "data": {
            "application/vnd.google.colaboratory.intrinsic+json": {
              "type": "dataframe",
              "variable_name": "df4"
            },
            "text/html": [
              "\n",
              "  <div id=\"df-869e3126-2891-42ff-aee1-0c1f6be0ddbd\" class=\"colab-df-container\">\n",
              "    <div>\n",
              "<style scoped>\n",
              "    .dataframe tbody tr th:only-of-type {\n",
              "        vertical-align: middle;\n",
              "    }\n",
              "\n",
              "    .dataframe tbody tr th {\n",
              "        vertical-align: top;\n",
              "    }\n",
              "\n",
              "    .dataframe thead th {\n",
              "        text-align: right;\n",
              "    }\n",
              "</style>\n",
              "<table border=\"1\" class=\"dataframe\">\n",
              "  <thead>\n",
              "    <tr style=\"text-align: right;\">\n",
              "      <th></th>\n",
              "      <th>unix</th>\n",
              "      <th>time</th>\n",
              "      <th>aggregate</th>\n",
              "      <th>washing machine</th>\n",
              "      <th>tumble dryer</th>\n",
              "      <th>fridge freezer</th>\n",
              "      <th>freezer</th>\n",
              "      <th>dishwasher</th>\n",
              "      <th>toaster</th>\n",
              "      <th>microwave</th>\n",
              "      <th>television</th>\n",
              "      <th>kettle</th>\n",
              "      <th>agg_4p</th>\n",
              "      <th>type_defaut_Fridge_Freezer</th>\n",
              "      <th>anomaly</th>\n",
              "      <th>type_defaut_dishwasher</th>\n",
              "      <th>type_defaut_Freezer</th>\n",
              "      <th>type_defaut_TumbleDryer</th>\n",
              "    </tr>\n",
              "  </thead>\n",
              "  <tbody>\n",
              "    <tr>\n",
              "      <th>0</th>\n",
              "      <td>1395360000</td>\n",
              "      <td>2014-03-21 00:00:00</td>\n",
              "      <td>302.0</td>\n",
              "      <td>0.0</td>\n",
              "      <td>0.0</td>\n",
              "      <td>0.0</td>\n",
              "      <td>0.0</td>\n",
              "      <td>0.0</td>\n",
              "      <td>0.0</td>\n",
              "      <td>0.0</td>\n",
              "      <td>0.0</td>\n",
              "      <td>0.0</td>\n",
              "      <td>0.0</td>\n",
              "      <td>0</td>\n",
              "      <td>0</td>\n",
              "      <td>0</td>\n",
              "      <td>0</td>\n",
              "      <td>0</td>\n",
              "    </tr>\n",
              "    <tr>\n",
              "      <th>1</th>\n",
              "      <td>1395360008</td>\n",
              "      <td>2014-03-21 00:00:08</td>\n",
              "      <td>302.0</td>\n",
              "      <td>0.0</td>\n",
              "      <td>0.0</td>\n",
              "      <td>0.0</td>\n",
              "      <td>0.0</td>\n",
              "      <td>0.0</td>\n",
              "      <td>0.0</td>\n",
              "      <td>0.0</td>\n",
              "      <td>0.0</td>\n",
              "      <td>0.0</td>\n",
              "      <td>0.0</td>\n",
              "      <td>0</td>\n",
              "      <td>0</td>\n",
              "      <td>0</td>\n",
              "      <td>0</td>\n",
              "      <td>0</td>\n",
              "    </tr>\n",
              "    <tr>\n",
              "      <th>2</th>\n",
              "      <td>1395360016</td>\n",
              "      <td>2014-03-21 00:00:16</td>\n",
              "      <td>302.0</td>\n",
              "      <td>0.0</td>\n",
              "      <td>0.0</td>\n",
              "      <td>0.0</td>\n",
              "      <td>0.0</td>\n",
              "      <td>0.0</td>\n",
              "      <td>0.0</td>\n",
              "      <td>0.0</td>\n",
              "      <td>0.0</td>\n",
              "      <td>0.0</td>\n",
              "      <td>0.0</td>\n",
              "      <td>0</td>\n",
              "      <td>0</td>\n",
              "      <td>0</td>\n",
              "      <td>0</td>\n",
              "      <td>0</td>\n",
              "    </tr>\n",
              "  </tbody>\n",
              "</table>\n",
              "</div>\n",
              "    <div class=\"colab-df-buttons\">\n",
              "\n",
              "  <div class=\"colab-df-container\">\n",
              "    <button class=\"colab-df-convert\" onclick=\"convertToInteractive('df-869e3126-2891-42ff-aee1-0c1f6be0ddbd')\"\n",
              "            title=\"Convert this dataframe to an interactive table.\"\n",
              "            style=\"display:none;\">\n",
              "\n",
              "  <svg xmlns=\"http://www.w3.org/2000/svg\" height=\"24px\" viewBox=\"0 -960 960 960\">\n",
              "    <path d=\"M120-120v-720h720v720H120Zm60-500h600v-160H180v160Zm220 220h160v-160H400v160Zm0 220h160v-160H400v160ZM180-400h160v-160H180v160Zm440 0h160v-160H620v160ZM180-180h160v-160H180v160Zm440 0h160v-160H620v160Z\"/>\n",
              "  </svg>\n",
              "    </button>\n",
              "\n",
              "  <style>\n",
              "    .colab-df-container {\n",
              "      display:flex;\n",
              "      gap: 12px;\n",
              "    }\n",
              "\n",
              "    .colab-df-convert {\n",
              "      background-color: #E8F0FE;\n",
              "      border: none;\n",
              "      border-radius: 50%;\n",
              "      cursor: pointer;\n",
              "      display: none;\n",
              "      fill: #1967D2;\n",
              "      height: 32px;\n",
              "      padding: 0 0 0 0;\n",
              "      width: 32px;\n",
              "    }\n",
              "\n",
              "    .colab-df-convert:hover {\n",
              "      background-color: #E2EBFA;\n",
              "      box-shadow: 0px 1px 2px rgba(60, 64, 67, 0.3), 0px 1px 3px 1px rgba(60, 64, 67, 0.15);\n",
              "      fill: #174EA6;\n",
              "    }\n",
              "\n",
              "    .colab-df-buttons div {\n",
              "      margin-bottom: 4px;\n",
              "    }\n",
              "\n",
              "    [theme=dark] .colab-df-convert {\n",
              "      background-color: #3B4455;\n",
              "      fill: #D2E3FC;\n",
              "    }\n",
              "\n",
              "    [theme=dark] .colab-df-convert:hover {\n",
              "      background-color: #434B5C;\n",
              "      box-shadow: 0px 1px 3px 1px rgba(0, 0, 0, 0.15);\n",
              "      filter: drop-shadow(0px 1px 2px rgba(0, 0, 0, 0.3));\n",
              "      fill: #FFFFFF;\n",
              "    }\n",
              "  </style>\n",
              "\n",
              "    <script>\n",
              "      const buttonEl =\n",
              "        document.querySelector('#df-869e3126-2891-42ff-aee1-0c1f6be0ddbd button.colab-df-convert');\n",
              "      buttonEl.style.display =\n",
              "        google.colab.kernel.accessAllowed ? 'block' : 'none';\n",
              "\n",
              "      async function convertToInteractive(key) {\n",
              "        const element = document.querySelector('#df-869e3126-2891-42ff-aee1-0c1f6be0ddbd');\n",
              "        const dataTable =\n",
              "          await google.colab.kernel.invokeFunction('convertToInteractive',\n",
              "                                                    [key], {});\n",
              "        if (!dataTable) return;\n",
              "\n",
              "        const docLinkHtml = 'Like what you see? Visit the ' +\n",
              "          '<a target=\"_blank\" href=https://colab.research.google.com/notebooks/data_table.ipynb>data table notebook</a>'\n",
              "          + ' to learn more about interactive tables.';\n",
              "        element.innerHTML = '';\n",
              "        dataTable['output_type'] = 'display_data';\n",
              "        await google.colab.output.renderOutput(dataTable, element);\n",
              "        const docLink = document.createElement('div');\n",
              "        docLink.innerHTML = docLinkHtml;\n",
              "        element.appendChild(docLink);\n",
              "      }\n",
              "    </script>\n",
              "  </div>\n",
              "\n",
              "\n",
              "<div id=\"df-5688e199-56e0-42b9-90a4-d79ba3cd6ad7\">\n",
              "  <button class=\"colab-df-quickchart\" onclick=\"quickchart('df-5688e199-56e0-42b9-90a4-d79ba3cd6ad7')\"\n",
              "            title=\"Suggest charts\"\n",
              "            style=\"display:none;\">\n",
              "\n",
              "<svg xmlns=\"http://www.w3.org/2000/svg\" height=\"24px\"viewBox=\"0 0 24 24\"\n",
              "     width=\"24px\">\n",
              "    <g>\n",
              "        <path d=\"M19 3H5c-1.1 0-2 .9-2 2v14c0 1.1.9 2 2 2h14c1.1 0 2-.9 2-2V5c0-1.1-.9-2-2-2zM9 17H7v-7h2v7zm4 0h-2V7h2v10zm4 0h-2v-4h2v4z\"/>\n",
              "    </g>\n",
              "</svg>\n",
              "  </button>\n",
              "\n",
              "<style>\n",
              "  .colab-df-quickchart {\n",
              "      --bg-color: #E8F0FE;\n",
              "      --fill-color: #1967D2;\n",
              "      --hover-bg-color: #E2EBFA;\n",
              "      --hover-fill-color: #174EA6;\n",
              "      --disabled-fill-color: #AAA;\n",
              "      --disabled-bg-color: #DDD;\n",
              "  }\n",
              "\n",
              "  [theme=dark] .colab-df-quickchart {\n",
              "      --bg-color: #3B4455;\n",
              "      --fill-color: #D2E3FC;\n",
              "      --hover-bg-color: #434B5C;\n",
              "      --hover-fill-color: #FFFFFF;\n",
              "      --disabled-bg-color: #3B4455;\n",
              "      --disabled-fill-color: #666;\n",
              "  }\n",
              "\n",
              "  .colab-df-quickchart {\n",
              "    background-color: var(--bg-color);\n",
              "    border: none;\n",
              "    border-radius: 50%;\n",
              "    cursor: pointer;\n",
              "    display: none;\n",
              "    fill: var(--fill-color);\n",
              "    height: 32px;\n",
              "    padding: 0;\n",
              "    width: 32px;\n",
              "  }\n",
              "\n",
              "  .colab-df-quickchart:hover {\n",
              "    background-color: var(--hover-bg-color);\n",
              "    box-shadow: 0 1px 2px rgba(60, 64, 67, 0.3), 0 1px 3px 1px rgba(60, 64, 67, 0.15);\n",
              "    fill: var(--button-hover-fill-color);\n",
              "  }\n",
              "\n",
              "  .colab-df-quickchart-complete:disabled,\n",
              "  .colab-df-quickchart-complete:disabled:hover {\n",
              "    background-color: var(--disabled-bg-color);\n",
              "    fill: var(--disabled-fill-color);\n",
              "    box-shadow: none;\n",
              "  }\n",
              "\n",
              "  .colab-df-spinner {\n",
              "    border: 2px solid var(--fill-color);\n",
              "    border-color: transparent;\n",
              "    border-bottom-color: var(--fill-color);\n",
              "    animation:\n",
              "      spin 1s steps(1) infinite;\n",
              "  }\n",
              "\n",
              "  @keyframes spin {\n",
              "    0% {\n",
              "      border-color: transparent;\n",
              "      border-bottom-color: var(--fill-color);\n",
              "      border-left-color: var(--fill-color);\n",
              "    }\n",
              "    20% {\n",
              "      border-color: transparent;\n",
              "      border-left-color: var(--fill-color);\n",
              "      border-top-color: var(--fill-color);\n",
              "    }\n",
              "    30% {\n",
              "      border-color: transparent;\n",
              "      border-left-color: var(--fill-color);\n",
              "      border-top-color: var(--fill-color);\n",
              "      border-right-color: var(--fill-color);\n",
              "    }\n",
              "    40% {\n",
              "      border-color: transparent;\n",
              "      border-right-color: var(--fill-color);\n",
              "      border-top-color: var(--fill-color);\n",
              "    }\n",
              "    60% {\n",
              "      border-color: transparent;\n",
              "      border-right-color: var(--fill-color);\n",
              "    }\n",
              "    80% {\n",
              "      border-color: transparent;\n",
              "      border-right-color: var(--fill-color);\n",
              "      border-bottom-color: var(--fill-color);\n",
              "    }\n",
              "    90% {\n",
              "      border-color: transparent;\n",
              "      border-bottom-color: var(--fill-color);\n",
              "    }\n",
              "  }\n",
              "</style>\n",
              "\n",
              "  <script>\n",
              "    async function quickchart(key) {\n",
              "      const quickchartButtonEl =\n",
              "        document.querySelector('#' + key + ' button');\n",
              "      quickchartButtonEl.disabled = true;  // To prevent multiple clicks.\n",
              "      quickchartButtonEl.classList.add('colab-df-spinner');\n",
              "      try {\n",
              "        const charts = await google.colab.kernel.invokeFunction(\n",
              "            'suggestCharts', [key], {});\n",
              "      } catch (error) {\n",
              "        console.error('Error during call to suggestCharts:', error);\n",
              "      }\n",
              "      quickchartButtonEl.classList.remove('colab-df-spinner');\n",
              "      quickchartButtonEl.classList.add('colab-df-quickchart-complete');\n",
              "    }\n",
              "    (() => {\n",
              "      let quickchartButtonEl =\n",
              "        document.querySelector('#df-5688e199-56e0-42b9-90a4-d79ba3cd6ad7 button');\n",
              "      quickchartButtonEl.style.display =\n",
              "        google.colab.kernel.accessAllowed ? 'block' : 'none';\n",
              "    })();\n",
              "  </script>\n",
              "</div>\n",
              "\n",
              "    </div>\n",
              "  </div>\n"
            ],
            "text/plain": [
              "         unix                 time  aggregate  washing machine  tumble dryer  \\\n",
              "0  1395360000  2014-03-21 00:00:00      302.0              0.0           0.0   \n",
              "1  1395360008  2014-03-21 00:00:08      302.0              0.0           0.0   \n",
              "2  1395360016  2014-03-21 00:00:16      302.0              0.0           0.0   \n",
              "\n",
              "   fridge freezer  freezer  dishwasher  toaster  microwave  television  \\\n",
              "0             0.0      0.0         0.0      0.0        0.0         0.0   \n",
              "1             0.0      0.0         0.0      0.0        0.0         0.0   \n",
              "2             0.0      0.0         0.0      0.0        0.0         0.0   \n",
              "\n",
              "   kettle  agg_4p  type_defaut_Fridge_Freezer  anomaly  \\\n",
              "0     0.0     0.0                           0        0   \n",
              "1     0.0     0.0                           0        0   \n",
              "2     0.0     0.0                           0        0   \n",
              "\n",
              "   type_defaut_dishwasher  type_defaut_Freezer  type_defaut_TumbleDryer  \n",
              "0                       0                    0                        0  \n",
              "1                       0                    0                        0  \n",
              "2                       0                    0                        0  "
            ]
          },
          "execution_count": 6,
          "metadata": {},
          "output_type": "execute_result"
        }
      ],
      "source": [
        "df4.head(3)"
      ]
    },
    {
      "cell_type": "code",
      "execution_count": 7,
      "metadata": {
        "id": "lnkUi28h20WW"
      },
      "outputs": [],
      "source": [
        "\n",
        "def window_array_overlap(array, window_size, overlap):\n",
        "  \"\"\"Transforme un array en entrée du VAE avec des fenêtres glissantes et avec/sans chevauchement.\n",
        "\n",
        "  Args:\n",
        "      array: Le array d'entrée en 1D.\n",
        "      window_size: La taille de chaque fenêtre.\n",
        "      overlap: Le nombre d'éléments de chevauchement entre les fenêtres.\n",
        "\n",
        "  Returns:\n",
        "      Un array 3D avec les fenêtres glissantes.\n",
        "  \"\"\"\n",
        "\n",
        "  # Calcul du nombre de fenêtres\n",
        "  num_windows = (len(array) - window_size) // (window_size - overlap) + 1\n",
        "  print(f'num_windows {num_windows}')\n",
        "\n",
        "  # Création de l'array 3D\n",
        "  windows = np.zeros((num_windows, window_size))\n",
        "\n",
        "  # Génération des fenêtres glissantes avec chevauchement\n",
        "  for i in range(num_windows):\n",
        "    start = i * (window_size - overlap)\n",
        "    end = start + window_size\n",
        "    windows[i] = array[start:end]\n",
        "\n",
        "  return windows\n",
        "\n"
      ]
    },
    {
      "cell_type": "code",
      "execution_count": 8,
      "metadata": {
        "colab": {
          "base_uri": "https://localhost:8080/",
          "height": 219
        },
        "id": "7y9CcPyyxGlH",
        "outputId": "5c703dc5-71be-472a-f652-17640739ba5b"
      },
      "outputs": [
        {
          "data": {
            "application/vnd.google.colaboratory.intrinsic+json": {
              "type": "dataframe",
              "variable_name": "df4"
            },
            "text/html": [
              "\n",
              "  <div id=\"df-72ae746d-3ef6-4109-b7a6-18f55ccba934\" class=\"colab-df-container\">\n",
              "    <div>\n",
              "<style scoped>\n",
              "    .dataframe tbody tr th:only-of-type {\n",
              "        vertical-align: middle;\n",
              "    }\n",
              "\n",
              "    .dataframe tbody tr th {\n",
              "        vertical-align: top;\n",
              "    }\n",
              "\n",
              "    .dataframe thead th {\n",
              "        text-align: right;\n",
              "    }\n",
              "</style>\n",
              "<table border=\"1\" class=\"dataframe\">\n",
              "  <thead>\n",
              "    <tr style=\"text-align: right;\">\n",
              "      <th></th>\n",
              "      <th>unix</th>\n",
              "      <th>time</th>\n",
              "      <th>aggregate</th>\n",
              "      <th>washing machine</th>\n",
              "      <th>tumble dryer</th>\n",
              "      <th>fridge freezer</th>\n",
              "      <th>freezer</th>\n",
              "      <th>dishwasher</th>\n",
              "      <th>toaster</th>\n",
              "      <th>microwave</th>\n",
              "      <th>television</th>\n",
              "      <th>kettle</th>\n",
              "      <th>agg_4p</th>\n",
              "      <th>type_defaut_Fridge_Freezer</th>\n",
              "      <th>anomaly</th>\n",
              "      <th>type_defaut_dishwasher</th>\n",
              "      <th>type_defaut_Freezer</th>\n",
              "      <th>type_defaut_TumbleDryer</th>\n",
              "    </tr>\n",
              "  </thead>\n",
              "  <tbody>\n",
              "    <tr>\n",
              "      <th>0</th>\n",
              "      <td>1395360000</td>\n",
              "      <td>2014-03-21 00:00:00</td>\n",
              "      <td>302.0</td>\n",
              "      <td>0.0</td>\n",
              "      <td>0.0</td>\n",
              "      <td>0.0</td>\n",
              "      <td>0.0</td>\n",
              "      <td>0.0</td>\n",
              "      <td>0.0</td>\n",
              "      <td>0.0</td>\n",
              "      <td>0.0</td>\n",
              "      <td>0.0</td>\n",
              "      <td>0.0</td>\n",
              "      <td>0</td>\n",
              "      <td>0</td>\n",
              "      <td>0</td>\n",
              "      <td>0</td>\n",
              "      <td>0</td>\n",
              "    </tr>\n",
              "    <tr>\n",
              "      <th>1</th>\n",
              "      <td>1395360008</td>\n",
              "      <td>2014-03-21 00:00:08</td>\n",
              "      <td>302.0</td>\n",
              "      <td>0.0</td>\n",
              "      <td>0.0</td>\n",
              "      <td>0.0</td>\n",
              "      <td>0.0</td>\n",
              "      <td>0.0</td>\n",
              "      <td>0.0</td>\n",
              "      <td>0.0</td>\n",
              "      <td>0.0</td>\n",
              "      <td>0.0</td>\n",
              "      <td>0.0</td>\n",
              "      <td>0</td>\n",
              "      <td>0</td>\n",
              "      <td>0</td>\n",
              "      <td>0</td>\n",
              "      <td>0</td>\n",
              "    </tr>\n",
              "  </tbody>\n",
              "</table>\n",
              "</div>\n",
              "    <div class=\"colab-df-buttons\">\n",
              "\n",
              "  <div class=\"colab-df-container\">\n",
              "    <button class=\"colab-df-convert\" onclick=\"convertToInteractive('df-72ae746d-3ef6-4109-b7a6-18f55ccba934')\"\n",
              "            title=\"Convert this dataframe to an interactive table.\"\n",
              "            style=\"display:none;\">\n",
              "\n",
              "  <svg xmlns=\"http://www.w3.org/2000/svg\" height=\"24px\" viewBox=\"0 -960 960 960\">\n",
              "    <path d=\"M120-120v-720h720v720H120Zm60-500h600v-160H180v160Zm220 220h160v-160H400v160Zm0 220h160v-160H400v160ZM180-400h160v-160H180v160Zm440 0h160v-160H620v160ZM180-180h160v-160H180v160Zm440 0h160v-160H620v160Z\"/>\n",
              "  </svg>\n",
              "    </button>\n",
              "\n",
              "  <style>\n",
              "    .colab-df-container {\n",
              "      display:flex;\n",
              "      gap: 12px;\n",
              "    }\n",
              "\n",
              "    .colab-df-convert {\n",
              "      background-color: #E8F0FE;\n",
              "      border: none;\n",
              "      border-radius: 50%;\n",
              "      cursor: pointer;\n",
              "      display: none;\n",
              "      fill: #1967D2;\n",
              "      height: 32px;\n",
              "      padding: 0 0 0 0;\n",
              "      width: 32px;\n",
              "    }\n",
              "\n",
              "    .colab-df-convert:hover {\n",
              "      background-color: #E2EBFA;\n",
              "      box-shadow: 0px 1px 2px rgba(60, 64, 67, 0.3), 0px 1px 3px 1px rgba(60, 64, 67, 0.15);\n",
              "      fill: #174EA6;\n",
              "    }\n",
              "\n",
              "    .colab-df-buttons div {\n",
              "      margin-bottom: 4px;\n",
              "    }\n",
              "\n",
              "    [theme=dark] .colab-df-convert {\n",
              "      background-color: #3B4455;\n",
              "      fill: #D2E3FC;\n",
              "    }\n",
              "\n",
              "    [theme=dark] .colab-df-convert:hover {\n",
              "      background-color: #434B5C;\n",
              "      box-shadow: 0px 1px 3px 1px rgba(0, 0, 0, 0.15);\n",
              "      filter: drop-shadow(0px 1px 2px rgba(0, 0, 0, 0.3));\n",
              "      fill: #FFFFFF;\n",
              "    }\n",
              "  </style>\n",
              "\n",
              "    <script>\n",
              "      const buttonEl =\n",
              "        document.querySelector('#df-72ae746d-3ef6-4109-b7a6-18f55ccba934 button.colab-df-convert');\n",
              "      buttonEl.style.display =\n",
              "        google.colab.kernel.accessAllowed ? 'block' : 'none';\n",
              "\n",
              "      async function convertToInteractive(key) {\n",
              "        const element = document.querySelector('#df-72ae746d-3ef6-4109-b7a6-18f55ccba934');\n",
              "        const dataTable =\n",
              "          await google.colab.kernel.invokeFunction('convertToInteractive',\n",
              "                                                    [key], {});\n",
              "        if (!dataTable) return;\n",
              "\n",
              "        const docLinkHtml = 'Like what you see? Visit the ' +\n",
              "          '<a target=\"_blank\" href=https://colab.research.google.com/notebooks/data_table.ipynb>data table notebook</a>'\n",
              "          + ' to learn more about interactive tables.';\n",
              "        element.innerHTML = '';\n",
              "        dataTable['output_type'] = 'display_data';\n",
              "        await google.colab.output.renderOutput(dataTable, element);\n",
              "        const docLink = document.createElement('div');\n",
              "        docLink.innerHTML = docLinkHtml;\n",
              "        element.appendChild(docLink);\n",
              "      }\n",
              "    </script>\n",
              "  </div>\n",
              "\n",
              "\n",
              "<div id=\"df-ddac2cbd-0de4-4834-a31d-76d26c96f60b\">\n",
              "  <button class=\"colab-df-quickchart\" onclick=\"quickchart('df-ddac2cbd-0de4-4834-a31d-76d26c96f60b')\"\n",
              "            title=\"Suggest charts\"\n",
              "            style=\"display:none;\">\n",
              "\n",
              "<svg xmlns=\"http://www.w3.org/2000/svg\" height=\"24px\"viewBox=\"0 0 24 24\"\n",
              "     width=\"24px\">\n",
              "    <g>\n",
              "        <path d=\"M19 3H5c-1.1 0-2 .9-2 2v14c0 1.1.9 2 2 2h14c1.1 0 2-.9 2-2V5c0-1.1-.9-2-2-2zM9 17H7v-7h2v7zm4 0h-2V7h2v10zm4 0h-2v-4h2v4z\"/>\n",
              "    </g>\n",
              "</svg>\n",
              "  </button>\n",
              "\n",
              "<style>\n",
              "  .colab-df-quickchart {\n",
              "      --bg-color: #E8F0FE;\n",
              "      --fill-color: #1967D2;\n",
              "      --hover-bg-color: #E2EBFA;\n",
              "      --hover-fill-color: #174EA6;\n",
              "      --disabled-fill-color: #AAA;\n",
              "      --disabled-bg-color: #DDD;\n",
              "  }\n",
              "\n",
              "  [theme=dark] .colab-df-quickchart {\n",
              "      --bg-color: #3B4455;\n",
              "      --fill-color: #D2E3FC;\n",
              "      --hover-bg-color: #434B5C;\n",
              "      --hover-fill-color: #FFFFFF;\n",
              "      --disabled-bg-color: #3B4455;\n",
              "      --disabled-fill-color: #666;\n",
              "  }\n",
              "\n",
              "  .colab-df-quickchart {\n",
              "    background-color: var(--bg-color);\n",
              "    border: none;\n",
              "    border-radius: 50%;\n",
              "    cursor: pointer;\n",
              "    display: none;\n",
              "    fill: var(--fill-color);\n",
              "    height: 32px;\n",
              "    padding: 0;\n",
              "    width: 32px;\n",
              "  }\n",
              "\n",
              "  .colab-df-quickchart:hover {\n",
              "    background-color: var(--hover-bg-color);\n",
              "    box-shadow: 0 1px 2px rgba(60, 64, 67, 0.3), 0 1px 3px 1px rgba(60, 64, 67, 0.15);\n",
              "    fill: var(--button-hover-fill-color);\n",
              "  }\n",
              "\n",
              "  .colab-df-quickchart-complete:disabled,\n",
              "  .colab-df-quickchart-complete:disabled:hover {\n",
              "    background-color: var(--disabled-bg-color);\n",
              "    fill: var(--disabled-fill-color);\n",
              "    box-shadow: none;\n",
              "  }\n",
              "\n",
              "  .colab-df-spinner {\n",
              "    border: 2px solid var(--fill-color);\n",
              "    border-color: transparent;\n",
              "    border-bottom-color: var(--fill-color);\n",
              "    animation:\n",
              "      spin 1s steps(1) infinite;\n",
              "  }\n",
              "\n",
              "  @keyframes spin {\n",
              "    0% {\n",
              "      border-color: transparent;\n",
              "      border-bottom-color: var(--fill-color);\n",
              "      border-left-color: var(--fill-color);\n",
              "    }\n",
              "    20% {\n",
              "      border-color: transparent;\n",
              "      border-left-color: var(--fill-color);\n",
              "      border-top-color: var(--fill-color);\n",
              "    }\n",
              "    30% {\n",
              "      border-color: transparent;\n",
              "      border-left-color: var(--fill-color);\n",
              "      border-top-color: var(--fill-color);\n",
              "      border-right-color: var(--fill-color);\n",
              "    }\n",
              "    40% {\n",
              "      border-color: transparent;\n",
              "      border-right-color: var(--fill-color);\n",
              "      border-top-color: var(--fill-color);\n",
              "    }\n",
              "    60% {\n",
              "      border-color: transparent;\n",
              "      border-right-color: var(--fill-color);\n",
              "    }\n",
              "    80% {\n",
              "      border-color: transparent;\n",
              "      border-right-color: var(--fill-color);\n",
              "      border-bottom-color: var(--fill-color);\n",
              "    }\n",
              "    90% {\n",
              "      border-color: transparent;\n",
              "      border-bottom-color: var(--fill-color);\n",
              "    }\n",
              "  }\n",
              "</style>\n",
              "\n",
              "  <script>\n",
              "    async function quickchart(key) {\n",
              "      const quickchartButtonEl =\n",
              "        document.querySelector('#' + key + ' button');\n",
              "      quickchartButtonEl.disabled = true;  // To prevent multiple clicks.\n",
              "      quickchartButtonEl.classList.add('colab-df-spinner');\n",
              "      try {\n",
              "        const charts = await google.colab.kernel.invokeFunction(\n",
              "            'suggestCharts', [key], {});\n",
              "      } catch (error) {\n",
              "        console.error('Error during call to suggestCharts:', error);\n",
              "      }\n",
              "      quickchartButtonEl.classList.remove('colab-df-spinner');\n",
              "      quickchartButtonEl.classList.add('colab-df-quickchart-complete');\n",
              "    }\n",
              "    (() => {\n",
              "      let quickchartButtonEl =\n",
              "        document.querySelector('#df-ddac2cbd-0de4-4834-a31d-76d26c96f60b button');\n",
              "      quickchartButtonEl.style.display =\n",
              "        google.colab.kernel.accessAllowed ? 'block' : 'none';\n",
              "    })();\n",
              "  </script>\n",
              "</div>\n",
              "\n",
              "    </div>\n",
              "  </div>\n"
            ],
            "text/plain": [
              "         unix                 time  aggregate  washing machine  tumble dryer  \\\n",
              "0  1395360000  2014-03-21 00:00:00      302.0              0.0           0.0   \n",
              "1  1395360008  2014-03-21 00:00:08      302.0              0.0           0.0   \n",
              "\n",
              "   fridge freezer  freezer  dishwasher  toaster  microwave  television  \\\n",
              "0             0.0      0.0         0.0      0.0        0.0         0.0   \n",
              "1             0.0      0.0         0.0      0.0        0.0         0.0   \n",
              "\n",
              "   kettle  agg_4p  type_defaut_Fridge_Freezer  anomaly  \\\n",
              "0     0.0     0.0                           0        0   \n",
              "1     0.0     0.0                           0        0   \n",
              "\n",
              "   type_defaut_dishwasher  type_defaut_Freezer  type_defaut_TumbleDryer  \n",
              "0                       0                    0                        0  \n",
              "1                       0                    0                        0  "
            ]
          },
          "execution_count": 8,
          "metadata": {},
          "output_type": "execute_result"
        }
      ],
      "source": [
        "df4.head(2)"
      ]
    },
    {
      "cell_type": "code",
      "execution_count": 9,
      "metadata": {
        "colab": {
          "base_uri": "https://localhost:8080/"
        },
        "id": "HdPlqLDVxVfN",
        "outputId": "917ea5c8-b97c-41ec-c7f9-fa91235e066e"
      },
      "outputs": [
        {
          "data": {
            "text/plain": [
              "(4656600, 6)"
            ]
          },
          "execution_count": 9,
          "metadata": {},
          "output_type": "execute_result"
        }
      ],
      "source": [
        "df1.shape"
      ]
    },
    {
      "cell_type": "code",
      "execution_count": 10,
      "metadata": {
        "colab": {
          "base_uri": "https://localhost:8080/"
        },
        "id": "z-KPtWC_xZVw",
        "outputId": "5f4c346c-3d0f-49ad-f355-9fd1a7cc588d"
      },
      "outputs": [
        {
          "data": {
            "text/plain": [
              "4656.6"
            ]
          },
          "execution_count": 10,
          "metadata": {},
          "output_type": "execute_result"
        }
      ],
      "source": [
        "4656600/ 1000"
      ]
    },
    {
      "cell_type": "code",
      "execution_count": 10,
      "metadata": {
        "colab": {
          "base_uri": "https://localhost:8080/"
        },
        "id": "-GcF2GvP5R_T",
        "outputId": "78bf65d4-c6de-479b-a405-f9a0688ed1c6"
      },
      "outputs": [
        {
          "name": "stdout",
          "output_type": "stream",
          "text": [
            "num_windows 15520\n",
            "num_windows 15540\n",
            "num_windows 15145\n",
            "num_windows 5845\n"
          ]
        }
      ],
      "source": [
        "# division en sequence de 1000, don't forget sampling_factor\n",
        "seq_h15 = window_array_overlap(np.array(df1['fridge freezer']), 800, 500)\n",
        "seq_h2 = window_array_overlap(np.array(df2['fridge freezer']), 800, 500)\n",
        "seq_h9 = window_array_overlap(np.array(df3['fridge freezer']), 800, 500)\n",
        "seq_h3_anotated = window_array_overlap(np.array(df4['fridge freezer']), 800, 0)\n"
      ]
    },
    {
      "cell_type": "code",
      "execution_count": 11,
      "metadata": {
        "colab": {
          "base_uri": "https://localhost:8080/"
        },
        "id": "oI8hy1qw7Y9k",
        "outputId": "3aedeaad-9337-44d2-b1f4-9535bb79a0dd"
      },
      "outputs": [
        {
          "name": "stdout",
          "output_type": "stream",
          "text": [
            "(46205, 800)\n"
          ]
        }
      ],
      "source": [
        "x_train = np.concatenate((seq_h15, seq_h2, seq_h9), axis=0)\n",
        "print(x_train.shape)"
      ]
    },
    {
      "cell_type": "code",
      "execution_count": 12,
      "metadata": {
        "id": "iQ9oOvRU8a6-"
      },
      "outputs": [],
      "source": [
        "scaler = StandardScaler()\n"
      ]
    },
    {
      "cell_type": "code",
      "execution_count": 13,
      "metadata": {
        "id": "TACPkKom872Y"
      },
      "outputs": [],
      "source": [
        "train_data_normalized = scaler.fit_transform(x_train)\n"
      ]
    },
    {
      "cell_type": "code",
      "execution_count": 14,
      "metadata": {
        "id": "ec_B62FZ9IxU"
      },
      "outputs": [],
      "source": [
        "#test_data = scaler.fit_transform(seq_h20)\n",
        "test_data_anotated = scaler.fit_transform(seq_h3_anotated)"
      ]
    },
    {
      "cell_type": "code",
      "execution_count": 15,
      "metadata": {
        "colab": {
          "base_uri": "https://localhost:8080/"
        },
        "id": "ZmVjjPKS9Mrx",
        "outputId": "5e1d654f-3423-42e6-9dd4-1b3e9e7e2460"
      },
      "outputs": [
        {
          "data": {
            "text/plain": [
              "((46205, 800), (5845, 800))"
            ]
          },
          "execution_count": 15,
          "metadata": {},
          "output_type": "execute_result"
        }
      ],
      "source": [
        "train_data_normalized.shape, test_data_anotated.shape"
      ]
    },
    {
      "cell_type": "code",
      "execution_count": 16,
      "metadata": {
        "id": "g9iLyMIjBZ4N"
      },
      "outputs": [],
      "source": [
        "# getting the labels for the finale test step"
      ]
    },
    {
      "cell_type": "code",
      "execution_count": 17,
      "metadata": {
        "colab": {
          "base_uri": "https://localhost:8080/",
          "height": 219
        },
        "id": "kHuz2vlJyEtO",
        "outputId": "84203c07-c046-4e98-b6a5-5c2f89294f32"
      },
      "outputs": [
        {
          "data": {
            "application/vnd.google.colaboratory.intrinsic+json": {
              "type": "dataframe",
              "variable_name": "df4"
            },
            "text/html": [
              "\n",
              "  <div id=\"df-a6f46b9c-3970-4efb-b4cf-28cd5356901a\" class=\"colab-df-container\">\n",
              "    <div>\n",
              "<style scoped>\n",
              "    .dataframe tbody tr th:only-of-type {\n",
              "        vertical-align: middle;\n",
              "    }\n",
              "\n",
              "    .dataframe tbody tr th {\n",
              "        vertical-align: top;\n",
              "    }\n",
              "\n",
              "    .dataframe thead th {\n",
              "        text-align: right;\n",
              "    }\n",
              "</style>\n",
              "<table border=\"1\" class=\"dataframe\">\n",
              "  <thead>\n",
              "    <tr style=\"text-align: right;\">\n",
              "      <th></th>\n",
              "      <th>unix</th>\n",
              "      <th>time</th>\n",
              "      <th>aggregate</th>\n",
              "      <th>washing machine</th>\n",
              "      <th>tumble dryer</th>\n",
              "      <th>fridge freezer</th>\n",
              "      <th>freezer</th>\n",
              "      <th>dishwasher</th>\n",
              "      <th>toaster</th>\n",
              "      <th>microwave</th>\n",
              "      <th>television</th>\n",
              "      <th>kettle</th>\n",
              "      <th>agg_4p</th>\n",
              "      <th>type_defaut_Fridge_Freezer</th>\n",
              "      <th>anomaly</th>\n",
              "      <th>type_defaut_dishwasher</th>\n",
              "      <th>type_defaut_Freezer</th>\n",
              "      <th>type_defaut_TumbleDryer</th>\n",
              "    </tr>\n",
              "  </thead>\n",
              "  <tbody>\n",
              "    <tr>\n",
              "      <th>0</th>\n",
              "      <td>1395360000</td>\n",
              "      <td>2014-03-21 00:00:00</td>\n",
              "      <td>302.0</td>\n",
              "      <td>0.0</td>\n",
              "      <td>0.0</td>\n",
              "      <td>0.0</td>\n",
              "      <td>0.0</td>\n",
              "      <td>0.0</td>\n",
              "      <td>0.0</td>\n",
              "      <td>0.0</td>\n",
              "      <td>0.0</td>\n",
              "      <td>0.0</td>\n",
              "      <td>0.0</td>\n",
              "      <td>0</td>\n",
              "      <td>0</td>\n",
              "      <td>0</td>\n",
              "      <td>0</td>\n",
              "      <td>0</td>\n",
              "    </tr>\n",
              "    <tr>\n",
              "      <th>1</th>\n",
              "      <td>1395360008</td>\n",
              "      <td>2014-03-21 00:00:08</td>\n",
              "      <td>302.0</td>\n",
              "      <td>0.0</td>\n",
              "      <td>0.0</td>\n",
              "      <td>0.0</td>\n",
              "      <td>0.0</td>\n",
              "      <td>0.0</td>\n",
              "      <td>0.0</td>\n",
              "      <td>0.0</td>\n",
              "      <td>0.0</td>\n",
              "      <td>0.0</td>\n",
              "      <td>0.0</td>\n",
              "      <td>0</td>\n",
              "      <td>0</td>\n",
              "      <td>0</td>\n",
              "      <td>0</td>\n",
              "      <td>0</td>\n",
              "    </tr>\n",
              "  </tbody>\n",
              "</table>\n",
              "</div>\n",
              "    <div class=\"colab-df-buttons\">\n",
              "\n",
              "  <div class=\"colab-df-container\">\n",
              "    <button class=\"colab-df-convert\" onclick=\"convertToInteractive('df-a6f46b9c-3970-4efb-b4cf-28cd5356901a')\"\n",
              "            title=\"Convert this dataframe to an interactive table.\"\n",
              "            style=\"display:none;\">\n",
              "\n",
              "  <svg xmlns=\"http://www.w3.org/2000/svg\" height=\"24px\" viewBox=\"0 -960 960 960\">\n",
              "    <path d=\"M120-120v-720h720v720H120Zm60-500h600v-160H180v160Zm220 220h160v-160H400v160Zm0 220h160v-160H400v160ZM180-400h160v-160H180v160Zm440 0h160v-160H620v160ZM180-180h160v-160H180v160Zm440 0h160v-160H620v160Z\"/>\n",
              "  </svg>\n",
              "    </button>\n",
              "\n",
              "  <style>\n",
              "    .colab-df-container {\n",
              "      display:flex;\n",
              "      gap: 12px;\n",
              "    }\n",
              "\n",
              "    .colab-df-convert {\n",
              "      background-color: #E8F0FE;\n",
              "      border: none;\n",
              "      border-radius: 50%;\n",
              "      cursor: pointer;\n",
              "      display: none;\n",
              "      fill: #1967D2;\n",
              "      height: 32px;\n",
              "      padding: 0 0 0 0;\n",
              "      width: 32px;\n",
              "    }\n",
              "\n",
              "    .colab-df-convert:hover {\n",
              "      background-color: #E2EBFA;\n",
              "      box-shadow: 0px 1px 2px rgba(60, 64, 67, 0.3), 0px 1px 3px 1px rgba(60, 64, 67, 0.15);\n",
              "      fill: #174EA6;\n",
              "    }\n",
              "\n",
              "    .colab-df-buttons div {\n",
              "      margin-bottom: 4px;\n",
              "    }\n",
              "\n",
              "    [theme=dark] .colab-df-convert {\n",
              "      background-color: #3B4455;\n",
              "      fill: #D2E3FC;\n",
              "    }\n",
              "\n",
              "    [theme=dark] .colab-df-convert:hover {\n",
              "      background-color: #434B5C;\n",
              "      box-shadow: 0px 1px 3px 1px rgba(0, 0, 0, 0.15);\n",
              "      filter: drop-shadow(0px 1px 2px rgba(0, 0, 0, 0.3));\n",
              "      fill: #FFFFFF;\n",
              "    }\n",
              "  </style>\n",
              "\n",
              "    <script>\n",
              "      const buttonEl =\n",
              "        document.querySelector('#df-a6f46b9c-3970-4efb-b4cf-28cd5356901a button.colab-df-convert');\n",
              "      buttonEl.style.display =\n",
              "        google.colab.kernel.accessAllowed ? 'block' : 'none';\n",
              "\n",
              "      async function convertToInteractive(key) {\n",
              "        const element = document.querySelector('#df-a6f46b9c-3970-4efb-b4cf-28cd5356901a');\n",
              "        const dataTable =\n",
              "          await google.colab.kernel.invokeFunction('convertToInteractive',\n",
              "                                                    [key], {});\n",
              "        if (!dataTable) return;\n",
              "\n",
              "        const docLinkHtml = 'Like what you see? Visit the ' +\n",
              "          '<a target=\"_blank\" href=https://colab.research.google.com/notebooks/data_table.ipynb>data table notebook</a>'\n",
              "          + ' to learn more about interactive tables.';\n",
              "        element.innerHTML = '';\n",
              "        dataTable['output_type'] = 'display_data';\n",
              "        await google.colab.output.renderOutput(dataTable, element);\n",
              "        const docLink = document.createElement('div');\n",
              "        docLink.innerHTML = docLinkHtml;\n",
              "        element.appendChild(docLink);\n",
              "      }\n",
              "    </script>\n",
              "  </div>\n",
              "\n",
              "\n",
              "<div id=\"df-6c10cc6f-e47e-4520-a0a1-c00e43e2c6fe\">\n",
              "  <button class=\"colab-df-quickchart\" onclick=\"quickchart('df-6c10cc6f-e47e-4520-a0a1-c00e43e2c6fe')\"\n",
              "            title=\"Suggest charts\"\n",
              "            style=\"display:none;\">\n",
              "\n",
              "<svg xmlns=\"http://www.w3.org/2000/svg\" height=\"24px\"viewBox=\"0 0 24 24\"\n",
              "     width=\"24px\">\n",
              "    <g>\n",
              "        <path d=\"M19 3H5c-1.1 0-2 .9-2 2v14c0 1.1.9 2 2 2h14c1.1 0 2-.9 2-2V5c0-1.1-.9-2-2-2zM9 17H7v-7h2v7zm4 0h-2V7h2v10zm4 0h-2v-4h2v4z\"/>\n",
              "    </g>\n",
              "</svg>\n",
              "  </button>\n",
              "\n",
              "<style>\n",
              "  .colab-df-quickchart {\n",
              "      --bg-color: #E8F0FE;\n",
              "      --fill-color: #1967D2;\n",
              "      --hover-bg-color: #E2EBFA;\n",
              "      --hover-fill-color: #174EA6;\n",
              "      --disabled-fill-color: #AAA;\n",
              "      --disabled-bg-color: #DDD;\n",
              "  }\n",
              "\n",
              "  [theme=dark] .colab-df-quickchart {\n",
              "      --bg-color: #3B4455;\n",
              "      --fill-color: #D2E3FC;\n",
              "      --hover-bg-color: #434B5C;\n",
              "      --hover-fill-color: #FFFFFF;\n",
              "      --disabled-bg-color: #3B4455;\n",
              "      --disabled-fill-color: #666;\n",
              "  }\n",
              "\n",
              "  .colab-df-quickchart {\n",
              "    background-color: var(--bg-color);\n",
              "    border: none;\n",
              "    border-radius: 50%;\n",
              "    cursor: pointer;\n",
              "    display: none;\n",
              "    fill: var(--fill-color);\n",
              "    height: 32px;\n",
              "    padding: 0;\n",
              "    width: 32px;\n",
              "  }\n",
              "\n",
              "  .colab-df-quickchart:hover {\n",
              "    background-color: var(--hover-bg-color);\n",
              "    box-shadow: 0 1px 2px rgba(60, 64, 67, 0.3), 0 1px 3px 1px rgba(60, 64, 67, 0.15);\n",
              "    fill: var(--button-hover-fill-color);\n",
              "  }\n",
              "\n",
              "  .colab-df-quickchart-complete:disabled,\n",
              "  .colab-df-quickchart-complete:disabled:hover {\n",
              "    background-color: var(--disabled-bg-color);\n",
              "    fill: var(--disabled-fill-color);\n",
              "    box-shadow: none;\n",
              "  }\n",
              "\n",
              "  .colab-df-spinner {\n",
              "    border: 2px solid var(--fill-color);\n",
              "    border-color: transparent;\n",
              "    border-bottom-color: var(--fill-color);\n",
              "    animation:\n",
              "      spin 1s steps(1) infinite;\n",
              "  }\n",
              "\n",
              "  @keyframes spin {\n",
              "    0% {\n",
              "      border-color: transparent;\n",
              "      border-bottom-color: var(--fill-color);\n",
              "      border-left-color: var(--fill-color);\n",
              "    }\n",
              "    20% {\n",
              "      border-color: transparent;\n",
              "      border-left-color: var(--fill-color);\n",
              "      border-top-color: var(--fill-color);\n",
              "    }\n",
              "    30% {\n",
              "      border-color: transparent;\n",
              "      border-left-color: var(--fill-color);\n",
              "      border-top-color: var(--fill-color);\n",
              "      border-right-color: var(--fill-color);\n",
              "    }\n",
              "    40% {\n",
              "      border-color: transparent;\n",
              "      border-right-color: var(--fill-color);\n",
              "      border-top-color: var(--fill-color);\n",
              "    }\n",
              "    60% {\n",
              "      border-color: transparent;\n",
              "      border-right-color: var(--fill-color);\n",
              "    }\n",
              "    80% {\n",
              "      border-color: transparent;\n",
              "      border-right-color: var(--fill-color);\n",
              "      border-bottom-color: var(--fill-color);\n",
              "    }\n",
              "    90% {\n",
              "      border-color: transparent;\n",
              "      border-bottom-color: var(--fill-color);\n",
              "    }\n",
              "  }\n",
              "</style>\n",
              "\n",
              "  <script>\n",
              "    async function quickchart(key) {\n",
              "      const quickchartButtonEl =\n",
              "        document.querySelector('#' + key + ' button');\n",
              "      quickchartButtonEl.disabled = true;  // To prevent multiple clicks.\n",
              "      quickchartButtonEl.classList.add('colab-df-spinner');\n",
              "      try {\n",
              "        const charts = await google.colab.kernel.invokeFunction(\n",
              "            'suggestCharts', [key], {});\n",
              "      } catch (error) {\n",
              "        console.error('Error during call to suggestCharts:', error);\n",
              "      }\n",
              "      quickchartButtonEl.classList.remove('colab-df-spinner');\n",
              "      quickchartButtonEl.classList.add('colab-df-quickchart-complete');\n",
              "    }\n",
              "    (() => {\n",
              "      let quickchartButtonEl =\n",
              "        document.querySelector('#df-6c10cc6f-e47e-4520-a0a1-c00e43e2c6fe button');\n",
              "      quickchartButtonEl.style.display =\n",
              "        google.colab.kernel.accessAllowed ? 'block' : 'none';\n",
              "    })();\n",
              "  </script>\n",
              "</div>\n",
              "\n",
              "    </div>\n",
              "  </div>\n"
            ],
            "text/plain": [
              "         unix                 time  aggregate  washing machine  tumble dryer  \\\n",
              "0  1395360000  2014-03-21 00:00:00      302.0              0.0           0.0   \n",
              "1  1395360008  2014-03-21 00:00:08      302.0              0.0           0.0   \n",
              "\n",
              "   fridge freezer  freezer  dishwasher  toaster  microwave  television  \\\n",
              "0             0.0      0.0         0.0      0.0        0.0         0.0   \n",
              "1             0.0      0.0         0.0      0.0        0.0         0.0   \n",
              "\n",
              "   kettle  agg_4p  type_defaut_Fridge_Freezer  anomaly  \\\n",
              "0     0.0     0.0                           0        0   \n",
              "1     0.0     0.0                           0        0   \n",
              "\n",
              "   type_defaut_dishwasher  type_defaut_Freezer  type_defaut_TumbleDryer  \n",
              "0                       0                    0                        0  \n",
              "1                       0                    0                        0  "
            ]
          },
          "execution_count": 17,
          "metadata": {},
          "output_type": "execute_result"
        }
      ],
      "source": [
        "df4.head(2)"
      ]
    },
    {
      "cell_type": "code",
      "execution_count": 18,
      "metadata": {
        "colab": {
          "base_uri": "https://localhost:8080/",
          "height": 112
        },
        "id": "ICStXVX0zki0",
        "outputId": "2236c98e-9ee4-478e-af93-0a192e7c8246"
      },
      "outputs": [
        {
          "data": {
            "application/vnd.google.colaboratory.intrinsic+json": {
              "type": "dataframe",
              "variable_name": "df4"
            },
            "text/html": [
              "\n",
              "  <div id=\"df-e574f6df-4da4-4eca-bbae-6234d98f884a\" class=\"colab-df-container\">\n",
              "    <div>\n",
              "<style scoped>\n",
              "    .dataframe tbody tr th:only-of-type {\n",
              "        vertical-align: middle;\n",
              "    }\n",
              "\n",
              "    .dataframe tbody tr th {\n",
              "        vertical-align: top;\n",
              "    }\n",
              "\n",
              "    .dataframe thead th {\n",
              "        text-align: right;\n",
              "    }\n",
              "</style>\n",
              "<table border=\"1\" class=\"dataframe\">\n",
              "  <thead>\n",
              "    <tr style=\"text-align: right;\">\n",
              "      <th></th>\n",
              "      <th>unix</th>\n",
              "      <th>time</th>\n",
              "      <th>aggregate</th>\n",
              "      <th>fridge freezer</th>\n",
              "      <th>type_defaut_Fridge_Freezer</th>\n",
              "    </tr>\n",
              "  </thead>\n",
              "  <tbody>\n",
              "    <tr>\n",
              "      <th>0</th>\n",
              "      <td>1395360000</td>\n",
              "      <td>2014-03-21 00:00:00</td>\n",
              "      <td>302.0</td>\n",
              "      <td>0.0</td>\n",
              "      <td>0</td>\n",
              "    </tr>\n",
              "    <tr>\n",
              "      <th>1</th>\n",
              "      <td>1395360008</td>\n",
              "      <td>2014-03-21 00:00:08</td>\n",
              "      <td>302.0</td>\n",
              "      <td>0.0</td>\n",
              "      <td>0</td>\n",
              "    </tr>\n",
              "  </tbody>\n",
              "</table>\n",
              "</div>\n",
              "    <div class=\"colab-df-buttons\">\n",
              "\n",
              "  <div class=\"colab-df-container\">\n",
              "    <button class=\"colab-df-convert\" onclick=\"convertToInteractive('df-e574f6df-4da4-4eca-bbae-6234d98f884a')\"\n",
              "            title=\"Convert this dataframe to an interactive table.\"\n",
              "            style=\"display:none;\">\n",
              "\n",
              "  <svg xmlns=\"http://www.w3.org/2000/svg\" height=\"24px\" viewBox=\"0 -960 960 960\">\n",
              "    <path d=\"M120-120v-720h720v720H120Zm60-500h600v-160H180v160Zm220 220h160v-160H400v160Zm0 220h160v-160H400v160ZM180-400h160v-160H180v160Zm440 0h160v-160H620v160ZM180-180h160v-160H180v160Zm440 0h160v-160H620v160Z\"/>\n",
              "  </svg>\n",
              "    </button>\n",
              "\n",
              "  <style>\n",
              "    .colab-df-container {\n",
              "      display:flex;\n",
              "      gap: 12px;\n",
              "    }\n",
              "\n",
              "    .colab-df-convert {\n",
              "      background-color: #E8F0FE;\n",
              "      border: none;\n",
              "      border-radius: 50%;\n",
              "      cursor: pointer;\n",
              "      display: none;\n",
              "      fill: #1967D2;\n",
              "      height: 32px;\n",
              "      padding: 0 0 0 0;\n",
              "      width: 32px;\n",
              "    }\n",
              "\n",
              "    .colab-df-convert:hover {\n",
              "      background-color: #E2EBFA;\n",
              "      box-shadow: 0px 1px 2px rgba(60, 64, 67, 0.3), 0px 1px 3px 1px rgba(60, 64, 67, 0.15);\n",
              "      fill: #174EA6;\n",
              "    }\n",
              "\n",
              "    .colab-df-buttons div {\n",
              "      margin-bottom: 4px;\n",
              "    }\n",
              "\n",
              "    [theme=dark] .colab-df-convert {\n",
              "      background-color: #3B4455;\n",
              "      fill: #D2E3FC;\n",
              "    }\n",
              "\n",
              "    [theme=dark] .colab-df-convert:hover {\n",
              "      background-color: #434B5C;\n",
              "      box-shadow: 0px 1px 3px 1px rgba(0, 0, 0, 0.15);\n",
              "      filter: drop-shadow(0px 1px 2px rgba(0, 0, 0, 0.3));\n",
              "      fill: #FFFFFF;\n",
              "    }\n",
              "  </style>\n",
              "\n",
              "    <script>\n",
              "      const buttonEl =\n",
              "        document.querySelector('#df-e574f6df-4da4-4eca-bbae-6234d98f884a button.colab-df-convert');\n",
              "      buttonEl.style.display =\n",
              "        google.colab.kernel.accessAllowed ? 'block' : 'none';\n",
              "\n",
              "      async function convertToInteractive(key) {\n",
              "        const element = document.querySelector('#df-e574f6df-4da4-4eca-bbae-6234d98f884a');\n",
              "        const dataTable =\n",
              "          await google.colab.kernel.invokeFunction('convertToInteractive',\n",
              "                                                    [key], {});\n",
              "        if (!dataTable) return;\n",
              "\n",
              "        const docLinkHtml = 'Like what you see? Visit the ' +\n",
              "          '<a target=\"_blank\" href=https://colab.research.google.com/notebooks/data_table.ipynb>data table notebook</a>'\n",
              "          + ' to learn more about interactive tables.';\n",
              "        element.innerHTML = '';\n",
              "        dataTable['output_type'] = 'display_data';\n",
              "        await google.colab.output.renderOutput(dataTable, element);\n",
              "        const docLink = document.createElement('div');\n",
              "        docLink.innerHTML = docLinkHtml;\n",
              "        element.appendChild(docLink);\n",
              "      }\n",
              "    </script>\n",
              "  </div>\n",
              "\n",
              "\n",
              "<div id=\"df-13784735-8027-42d8-8446-5af4a812b5dd\">\n",
              "  <button class=\"colab-df-quickchart\" onclick=\"quickchart('df-13784735-8027-42d8-8446-5af4a812b5dd')\"\n",
              "            title=\"Suggest charts\"\n",
              "            style=\"display:none;\">\n",
              "\n",
              "<svg xmlns=\"http://www.w3.org/2000/svg\" height=\"24px\"viewBox=\"0 0 24 24\"\n",
              "     width=\"24px\">\n",
              "    <g>\n",
              "        <path d=\"M19 3H5c-1.1 0-2 .9-2 2v14c0 1.1.9 2 2 2h14c1.1 0 2-.9 2-2V5c0-1.1-.9-2-2-2zM9 17H7v-7h2v7zm4 0h-2V7h2v10zm4 0h-2v-4h2v4z\"/>\n",
              "    </g>\n",
              "</svg>\n",
              "  </button>\n",
              "\n",
              "<style>\n",
              "  .colab-df-quickchart {\n",
              "      --bg-color: #E8F0FE;\n",
              "      --fill-color: #1967D2;\n",
              "      --hover-bg-color: #E2EBFA;\n",
              "      --hover-fill-color: #174EA6;\n",
              "      --disabled-fill-color: #AAA;\n",
              "      --disabled-bg-color: #DDD;\n",
              "  }\n",
              "\n",
              "  [theme=dark] .colab-df-quickchart {\n",
              "      --bg-color: #3B4455;\n",
              "      --fill-color: #D2E3FC;\n",
              "      --hover-bg-color: #434B5C;\n",
              "      --hover-fill-color: #FFFFFF;\n",
              "      --disabled-bg-color: #3B4455;\n",
              "      --disabled-fill-color: #666;\n",
              "  }\n",
              "\n",
              "  .colab-df-quickchart {\n",
              "    background-color: var(--bg-color);\n",
              "    border: none;\n",
              "    border-radius: 50%;\n",
              "    cursor: pointer;\n",
              "    display: none;\n",
              "    fill: var(--fill-color);\n",
              "    height: 32px;\n",
              "    padding: 0;\n",
              "    width: 32px;\n",
              "  }\n",
              "\n",
              "  .colab-df-quickchart:hover {\n",
              "    background-color: var(--hover-bg-color);\n",
              "    box-shadow: 0 1px 2px rgba(60, 64, 67, 0.3), 0 1px 3px 1px rgba(60, 64, 67, 0.15);\n",
              "    fill: var(--button-hover-fill-color);\n",
              "  }\n",
              "\n",
              "  .colab-df-quickchart-complete:disabled,\n",
              "  .colab-df-quickchart-complete:disabled:hover {\n",
              "    background-color: var(--disabled-bg-color);\n",
              "    fill: var(--disabled-fill-color);\n",
              "    box-shadow: none;\n",
              "  }\n",
              "\n",
              "  .colab-df-spinner {\n",
              "    border: 2px solid var(--fill-color);\n",
              "    border-color: transparent;\n",
              "    border-bottom-color: var(--fill-color);\n",
              "    animation:\n",
              "      spin 1s steps(1) infinite;\n",
              "  }\n",
              "\n",
              "  @keyframes spin {\n",
              "    0% {\n",
              "      border-color: transparent;\n",
              "      border-bottom-color: var(--fill-color);\n",
              "      border-left-color: var(--fill-color);\n",
              "    }\n",
              "    20% {\n",
              "      border-color: transparent;\n",
              "      border-left-color: var(--fill-color);\n",
              "      border-top-color: var(--fill-color);\n",
              "    }\n",
              "    30% {\n",
              "      border-color: transparent;\n",
              "      border-left-color: var(--fill-color);\n",
              "      border-top-color: var(--fill-color);\n",
              "      border-right-color: var(--fill-color);\n",
              "    }\n",
              "    40% {\n",
              "      border-color: transparent;\n",
              "      border-right-color: var(--fill-color);\n",
              "      border-top-color: var(--fill-color);\n",
              "    }\n",
              "    60% {\n",
              "      border-color: transparent;\n",
              "      border-right-color: var(--fill-color);\n",
              "    }\n",
              "    80% {\n",
              "      border-color: transparent;\n",
              "      border-right-color: var(--fill-color);\n",
              "      border-bottom-color: var(--fill-color);\n",
              "    }\n",
              "    90% {\n",
              "      border-color: transparent;\n",
              "      border-bottom-color: var(--fill-color);\n",
              "    }\n",
              "  }\n",
              "</style>\n",
              "\n",
              "  <script>\n",
              "    async function quickchart(key) {\n",
              "      const quickchartButtonEl =\n",
              "        document.querySelector('#' + key + ' button');\n",
              "      quickchartButtonEl.disabled = true;  // To prevent multiple clicks.\n",
              "      quickchartButtonEl.classList.add('colab-df-spinner');\n",
              "      try {\n",
              "        const charts = await google.colab.kernel.invokeFunction(\n",
              "            'suggestCharts', [key], {});\n",
              "      } catch (error) {\n",
              "        console.error('Error during call to suggestCharts:', error);\n",
              "      }\n",
              "      quickchartButtonEl.classList.remove('colab-df-spinner');\n",
              "      quickchartButtonEl.classList.add('colab-df-quickchart-complete');\n",
              "    }\n",
              "    (() => {\n",
              "      let quickchartButtonEl =\n",
              "        document.querySelector('#df-13784735-8027-42d8-8446-5af4a812b5dd button');\n",
              "      quickchartButtonEl.style.display =\n",
              "        google.colab.kernel.accessAllowed ? 'block' : 'none';\n",
              "    })();\n",
              "  </script>\n",
              "</div>\n",
              "\n",
              "    </div>\n",
              "  </div>\n"
            ],
            "text/plain": [
              "         unix                 time  aggregate  fridge freezer  \\\n",
              "0  1395360000  2014-03-21 00:00:00      302.0             0.0   \n",
              "1  1395360008  2014-03-21 00:00:08      302.0             0.0   \n",
              "\n",
              "   type_defaut_Fridge_Freezer  \n",
              "0                           0  \n",
              "1                           0  "
            ]
          },
          "execution_count": 18,
          "metadata": {},
          "output_type": "execute_result"
        }
      ],
      "source": [
        "df4 = df4[['unix', 'time', 'aggregate', 'fridge freezer', 'type_defaut_Fridge_Freezer']]\n",
        "df4.head(2)"
      ]
    },
    {
      "cell_type": "code",
      "execution_count": 19,
      "metadata": {
        "colab": {
          "base_uri": "https://localhost:8080/"
        },
        "id": "QZUFrCzoBZ65",
        "outputId": "97a3b68d-4fcc-47ae-95a5-193a6423a635"
      },
      "outputs": [
        {
          "name": "stdout",
          "output_type": "stream",
          "text": [
            "liste des des anomalies annoté est de taille : 4676401 et les valeur unique sont [0 1]\n",
            "5845\n"
          ]
        }
      ],
      "source": [
        "\n",
        "# ici je met la fonction qui utilise les donné anoté et revoi les label\n",
        "df4.head(3)\n",
        "#df4 = df4[['unix', 'freezer', 'type_defaut_freezer']]\n",
        "list_anomaly = []\n",
        "for i in df4['type_defaut_Fridge_Freezer'] :\n",
        "    if (i ==1) or (i==2) :\n",
        "        list_anomaly.append(1)\n",
        "    else:\n",
        "        list_anomaly.append(0)\n",
        "\n",
        "df4['anomaly'] = list_anomaly\n",
        "print(f'liste des des anomalies annoté est de taille : {len(list_anomaly)} et les valeur unique sont {np.unique(list_anomaly)}')\n",
        "\n",
        "\n",
        "\n",
        "\n",
        "# Définition de la taille de la séquence\n",
        "sequence_length = 800\n",
        "seuil = 10\n",
        "\n",
        "# Fonction pour diviser le DataFrame en séquences et les labelliser\n",
        "def create_sequences_and_labels(df3, sequence_length, seuil):\n",
        "    sequences = []\n",
        "    labels = []\n",
        "\n",
        "    # Nombre total de séquences possibles\n",
        "    num_sequences = len(df3) // sequence_length\n",
        "\n",
        "    for i in range(num_sequences):\n",
        "        # Sélectionner la séquence\n",
        "        sequence = df3.iloc[i * sequence_length : (i + 1) * sequence_length]\n",
        "\n",
        "        # Vérifier le nombre d'anomalies dans la séquence\n",
        "        anomaly_count = sequence['anomaly'].sum()\n",
        "\n",
        "        # Déterminer le label de la séquence\n",
        "        label = 1 if anomaly_count >= seuil else 0\n",
        "\n",
        "        # Ajouter la séquence et le label à la liste\n",
        "        sequences.append(sequence['fridge freezer'].values)\n",
        "        labels.append(label)\n",
        "\n",
        "    return np.array(sequences), np.array(labels)\n",
        "\n",
        "\n",
        "sequence_test, labesl_test = create_sequences_and_labels(df4, sequence_length, seuil)\n",
        "\n",
        "print(len(labesl_test))"
      ]
    },
    {
      "cell_type": "code",
      "execution_count": 21,
      "metadata": {
        "colab": {
          "base_uri": "https://localhost:8080/"
        },
        "id": "cJLapwsOBZ99",
        "outputId": "1f486541-0799-440b-be36-32d000e90f31"
      },
      "outputs": [
        {
          "data": {
            "text/plain": [
              "(5845, 800)"
            ]
          },
          "execution_count": 21,
          "metadata": {},
          "output_type": "execute_result"
        }
      ],
      "source": [
        "test_data_anotated.shape"
      ]
    },
    {
      "cell_type": "code",
      "execution_count": 20,
      "metadata": {
        "id": "SXH7UyvJBaAt"
      },
      "outputs": [],
      "source": [
        "sequence_test_normalized = scaler.fit_transform(sequence_test)"
      ]
    },
    {
      "cell_type": "code",
      "execution_count": null,
      "metadata": {
        "colab": {
          "base_uri": "https://localhost:8080/",
          "height": 141
        },
        "id": "NPLhMzh2BaDQ",
        "outputId": "30ac7507-ba18-44c3-b3c2-60b36cd06d9a"
      },
      "outputs": [
        {
          "ename": "ValueError",
          "evalue": "operands could not be broadcast together with shapes (4676,1000) (5845,800) ",
          "output_type": "error",
          "traceback": [
            "\u001b[0;31m---------------------------------------------------------------------------\u001b[0m",
            "\u001b[0;31mValueError\u001b[0m                                Traceback (most recent call last)",
            "\u001b[0;32m<ipython-input-41-b37d4f37a0b7>\u001b[0m in \u001b[0;36m<cell line: 1>\u001b[0;34m()\u001b[0m\n\u001b[0;32m----> 1\u001b[0;31m \u001b[0msequence_test_normalized\u001b[0m \u001b[0;34m==\u001b[0m \u001b[0mtest_data_anotated\u001b[0m\u001b[0;34m\u001b[0m\u001b[0;34m\u001b[0m\u001b[0m\n\u001b[0m",
            "\u001b[0;31mValueError\u001b[0m: operands could not be broadcast together with shapes (4676,1000) (5845,800) "
          ]
        }
      ],
      "source": [
        "sequence_test_normalized == test_data_anotated"
      ]
    },
    {
      "cell_type": "code",
      "execution_count": null,
      "metadata": {
        "id": "4TERRGGFBaFw"
      },
      "outputs": [],
      "source": []
    },
    {
      "cell_type": "code",
      "execution_count": 21,
      "metadata": {
        "id": "IJz9-LWe9qTq"
      },
      "outputs": [],
      "source": [
        "## le model\n",
        "import torch\n",
        "import torch.nn as nn\n",
        "from torch.nn import functional as F\n",
        "\n",
        "class TCNBlock(nn.Module):\n",
        "    def __init__(self, in_channels, out_channels, kernel_size, dilation):\n",
        "        super(TCNBlock, self).__init__()\n",
        "        #padding = (kernel_size - 1) * dilation  # Causal padding, j'ai modifier ici\n",
        "        padding = (kernel_size // 2) * dilation#(kernel_size - 1) * dilation\n",
        "        self.conv = nn.Conv1d(in_channels, out_channels, kernel_size, padding=padding, dilation=dilation)\n",
        "        self.activation = nn.ReLU()\n",
        "        self.norm = nn.BatchNorm1d(out_channels)\n",
        "        self.drop = nn.Dropout(p=0.1)\n",
        "\n",
        "    def forward(self, x):\n",
        "        x = self.conv(x)\n",
        "        x = self.activation(x)\n",
        "        x = self.norm(x)\n",
        "        x = self.drop(x)\n",
        "        return x\n",
        "\n",
        "class TCNEncoder(nn.Module):\n",
        "    def __init__(self, in_channels, out_channels, kernel_size, dilation_rates, sampling_factor):\n",
        "        super(TCNEncoder, self).__init__()\n",
        "        self.dilation_rates = dilation_rates\n",
        "        self.sampling_factor = sampling_factor\n",
        "        self.tcn_layers = nn.ModuleList([\n",
        "            TCNBlock(in_channels if i == 0 else out_channels, out_channels, kernel_size, dilation)\n",
        "            for i, dilation in enumerate(dilation_rates)\n",
        "        ])\n",
        "        self.conv1d = nn.Conv1d(out_channels, 8, kernel_size=1, padding=0)  # 1x1 convolution for dimensionality reduction, en metant padding 0, ca va reduire la taille de la séquence\n",
        "\n",
        "    def forward(self, x):\n",
        "        #print(f'before encoder {x.shape}')\n",
        "        for layer in self.tcn_layers:\n",
        "            x = layer(x)\n",
        "            #print(f'in the layers {x.shape}')\n",
        "        #print(f'after alla layers {x.shape}')\n",
        "        x = self.conv1d(x)  # Dimensionality reduction\n",
        "        #print(f'after the conv1d {x.shape}')\n",
        "        x = F.avg_pool1d(x, kernel_size=self.sampling_factor)  # downsampling,  revoir\n",
        "        #print(f'after the downsampling {x.shape}')\n",
        "        return x\n",
        "\n",
        "class TCNDecoder(nn.Module):\n",
        "    def __init__(self, in_channels, out_channels, kernel_size, dilation_rates, sampling_factor):\n",
        "        super(TCNDecoder, self).__init__()\n",
        "        self.dilation_rates = dilation_rates\n",
        "        self.sampling_factor = sampling_factor\n",
        "        self.tcn_layers = nn.ModuleList([\n",
        "            #TCNBlock(8 if i == 0 else out_channels, out_channels, kernel_size, dilation)\n",
        "            TCNBlock(8 if i == 0 else  in_channels, in_channels, kernel_size, dilation)\n",
        "            for i, dilation in enumerate(dilation_rates)\n",
        "        ])\n",
        "        self.upsample = nn.Upsample(scale_factor=self.sampling_factor, mode='nearest')  # upsampling\n",
        "        #self.conv1d = nn.Conv1d(out_channels, in_channels, kernel_size=1, padding=0)  # 1x1 convolution for reconstruction\n",
        "        self.conv1d = nn.Conv1d(in_channels, out_channels, kernel_size=1, padding=0)\n",
        "\n",
        "    def forward(self, x):\n",
        "        #print(f'before decoder {x.shape}')\n",
        "        x = self.upsample(x)\n",
        "        #print(f'after upsamling {x.shape}')  # Upsampling to original length\n",
        "        for layer in self.tcn_layers:\n",
        "            x = layer(x)\n",
        "            #print(f'in the layers {x.shape}')\n",
        "        #print(f'after alla layers {x.shape}')\n",
        "\n",
        "        #print(x.shape)\n",
        "        #print(out_channels)\n",
        "        x = self.conv1d(x)\n",
        "        #print(f'after the last conv1d of the decoder {x.shape}')  # Reconstruct the original dimensionality\n",
        "        #print(x.shape)\n",
        "        return x\n",
        "\n",
        "class TCNAE(nn.Module):\n",
        "    def __init__(self, in_channels, out_channels, kernel_size, dilation_rates, sampling_factor):\n",
        "        super(TCNAE, self).__init__()\n",
        "        self.encoder = TCNEncoder(in_channels, out_channels, kernel_size, dilation_rates, sampling_factor)\n",
        "        self.decoder = TCNDecoder(out_channels, in_channels, kernel_size, dilation_rates, sampling_factor)\n",
        "\n",
        "    def forward(self, x):\n",
        "\n",
        "        encoded = self.encoder(x)\n",
        "        #print(encoded.shape)\n",
        "\n",
        "        decoded = self.decoder(encoded)\n",
        "        return decoded\n",
        "\n",
        "\n"
      ]
    },
    {
      "cell_type": "code",
      "execution_count": 22,
      "metadata": {
        "id": "c_N8rRXG-moy"
      },
      "outputs": [],
      "source": [
        "# Example usage\n",
        "# Assuming your time series data is stored in a PyTorch tensor of shape (batch_size, features, sequence_length)\n",
        "batch_size = 64\n",
        "sequence_length = 800\n",
        "features = 1\n",
        "dilation_rates = [1, 2, 4, 8, 16]  # Example dilation rates\n",
        "sampling_factor = 10#40  # Downsampling factor\n",
        "kernel_size = 21\n",
        "out_channels = 20"
      ]
    },
    {
      "cell_type": "code",
      "execution_count": 23,
      "metadata": {
        "id": "IRySNskn-r2n"
      },
      "outputs": [],
      "source": [
        "# Convert the training data to PyTorch tensors\n",
        "train_data_normalized = torch.from_numpy(train_data_normalized)\n",
        "\n",
        "\n",
        "#input_size = x_train.shape[1] # taille de l'entrée (séquence de longueur 1000), maybe i should change this one\n",
        "#latent_dim = 128  # 125 ? non\n",
        "\n",
        "# Ccreate the autoencoder model and optimizer\n",
        "model = TCNAE(features, out_channels, kernel_size, dilation_rates, sampling_factor)\n",
        "\n"
      ]
    },
    {
      "cell_type": "code",
      "execution_count": 24,
      "metadata": {
        "id": "-8AkjO7N-1pK"
      },
      "outputs": [],
      "source": [
        "# Define the loss function\n",
        "# nn.MSELoss(reduction='none')\n",
        "\n",
        "criterion = nn.MSELoss()\n",
        "criterion_mae = nn.L1Loss()\n",
        "#criterion = nn.MSELoss(reduction='none')\n",
        "\n",
        "#"
      ]
    },
    {
      "cell_type": "code",
      "execution_count": 25,
      "metadata": {
        "id": "junmA70B-3gl"
      },
      "outputs": [],
      "source": [
        "learning_rate = 0.001# %0.0001\n",
        "optimizer = optim.Adam(model.parameters(), lr=learning_rate)"
      ]
    },
    {
      "cell_type": "code",
      "execution_count": 26,
      "metadata": {
        "colab": {
          "base_uri": "https://localhost:8080/"
        },
        "id": "gqDAP-8H_D1c",
        "outputId": "3655b671-6ffa-4ffb-87fb-f98e735eda35"
      },
      "outputs": [
        {
          "data": {
            "text/plain": [
              "80.0"
            ]
          },
          "execution_count": 26,
          "metadata": {},
          "output_type": "execute_result"
        }
      ],
      "source": [
        "800 / 10"
      ]
    },
    {
      "cell_type": "code",
      "execution_count": 26,
      "metadata": {
        "id": "McXsbK-eHClk"
      },
      "outputs": [],
      "source": []
    },
    {
      "cell_type": "code",
      "execution_count": 27,
      "metadata": {
        "colab": {
          "base_uri": "https://localhost:8080/"
        },
        "id": "5KJoSpllGN1L",
        "outputId": "8ca707fe-4bc9-4f76-d51f-d2588378a5bc"
      },
      "outputs": [
        {
          "data": {
            "text/plain": [
              "TCNAE(\n",
              "  (encoder): TCNEncoder(\n",
              "    (tcn_layers): ModuleList(\n",
              "      (0): TCNBlock(\n",
              "        (conv): Conv1d(1, 20, kernel_size=(21,), stride=(1,), padding=(10,))\n",
              "        (activation): ReLU()\n",
              "        (norm): BatchNorm1d(20, eps=1e-05, momentum=0.1, affine=True, track_running_stats=True)\n",
              "        (drop): Dropout(p=0.1, inplace=False)\n",
              "      )\n",
              "      (1): TCNBlock(\n",
              "        (conv): Conv1d(20, 20, kernel_size=(21,), stride=(1,), padding=(20,), dilation=(2,))\n",
              "        (activation): ReLU()\n",
              "        (norm): BatchNorm1d(20, eps=1e-05, momentum=0.1, affine=True, track_running_stats=True)\n",
              "        (drop): Dropout(p=0.1, inplace=False)\n",
              "      )\n",
              "      (2): TCNBlock(\n",
              "        (conv): Conv1d(20, 20, kernel_size=(21,), stride=(1,), padding=(40,), dilation=(4,))\n",
              "        (activation): ReLU()\n",
              "        (norm): BatchNorm1d(20, eps=1e-05, momentum=0.1, affine=True, track_running_stats=True)\n",
              "        (drop): Dropout(p=0.1, inplace=False)\n",
              "      )\n",
              "      (3): TCNBlock(\n",
              "        (conv): Conv1d(20, 20, kernel_size=(21,), stride=(1,), padding=(80,), dilation=(8,))\n",
              "        (activation): ReLU()\n",
              "        (norm): BatchNorm1d(20, eps=1e-05, momentum=0.1, affine=True, track_running_stats=True)\n",
              "        (drop): Dropout(p=0.1, inplace=False)\n",
              "      )\n",
              "      (4): TCNBlock(\n",
              "        (conv): Conv1d(20, 20, kernel_size=(21,), stride=(1,), padding=(160,), dilation=(16,))\n",
              "        (activation): ReLU()\n",
              "        (norm): BatchNorm1d(20, eps=1e-05, momentum=0.1, affine=True, track_running_stats=True)\n",
              "        (drop): Dropout(p=0.1, inplace=False)\n",
              "      )\n",
              "    )\n",
              "    (conv1d): Conv1d(20, 8, kernel_size=(1,), stride=(1,))\n",
              "  )\n",
              "  (decoder): TCNDecoder(\n",
              "    (tcn_layers): ModuleList(\n",
              "      (0): TCNBlock(\n",
              "        (conv): Conv1d(8, 20, kernel_size=(21,), stride=(1,), padding=(10,))\n",
              "        (activation): ReLU()\n",
              "        (norm): BatchNorm1d(20, eps=1e-05, momentum=0.1, affine=True, track_running_stats=True)\n",
              "        (drop): Dropout(p=0.1, inplace=False)\n",
              "      )\n",
              "      (1): TCNBlock(\n",
              "        (conv): Conv1d(20, 20, kernel_size=(21,), stride=(1,), padding=(20,), dilation=(2,))\n",
              "        (activation): ReLU()\n",
              "        (norm): BatchNorm1d(20, eps=1e-05, momentum=0.1, affine=True, track_running_stats=True)\n",
              "        (drop): Dropout(p=0.1, inplace=False)\n",
              "      )\n",
              "      (2): TCNBlock(\n",
              "        (conv): Conv1d(20, 20, kernel_size=(21,), stride=(1,), padding=(40,), dilation=(4,))\n",
              "        (activation): ReLU()\n",
              "        (norm): BatchNorm1d(20, eps=1e-05, momentum=0.1, affine=True, track_running_stats=True)\n",
              "        (drop): Dropout(p=0.1, inplace=False)\n",
              "      )\n",
              "      (3): TCNBlock(\n",
              "        (conv): Conv1d(20, 20, kernel_size=(21,), stride=(1,), padding=(80,), dilation=(8,))\n",
              "        (activation): ReLU()\n",
              "        (norm): BatchNorm1d(20, eps=1e-05, momentum=0.1, affine=True, track_running_stats=True)\n",
              "        (drop): Dropout(p=0.1, inplace=False)\n",
              "      )\n",
              "      (4): TCNBlock(\n",
              "        (conv): Conv1d(20, 20, kernel_size=(21,), stride=(1,), padding=(160,), dilation=(16,))\n",
              "        (activation): ReLU()\n",
              "        (norm): BatchNorm1d(20, eps=1e-05, momentum=0.1, affine=True, track_running_stats=True)\n",
              "        (drop): Dropout(p=0.1, inplace=False)\n",
              "      )\n",
              "    )\n",
              "    (upsample): Upsample(scale_factor=10.0, mode='nearest')\n",
              "    (conv1d): Conv1d(20, 1, kernel_size=(1,), stride=(1,))\n",
              "  )\n",
              ")"
            ]
          },
          "execution_count": 27,
          "metadata": {},
          "output_type": "execute_result"
        }
      ],
      "source": [
        "# Set the device to GPU if available, otherwise use CPU\n",
        "device = torch.device(\"cuda\" if torch.cuda.is_available() else \"cpu\")\n",
        "model.to(device)"
      ]
    },
    {
      "cell_type": "code",
      "execution_count": 28,
      "metadata": {
        "colab": {
          "base_uri": "https://localhost:8080/"
        },
        "id": "OFyG-dta6gV9",
        "outputId": "b906218b-03df-49f6-cad8-0276cc56a972"
      },
      "outputs": [
        {
          "data": {
            "text/plain": [
              "device(type='cuda')"
            ]
          },
          "execution_count": 28,
          "metadata": {},
          "output_type": "execute_result"
        }
      ],
      "source": [
        "device"
      ]
    },
    {
      "cell_type": "code",
      "execution_count": 29,
      "metadata": {
        "colab": {
          "base_uri": "https://localhost:8080/"
        },
        "id": "Fn5gJ6Oh-7Nn",
        "outputId": "d42104b3-6a92-4052-ffb9-614263d8a6f8"
      },
      "outputs": [
        {
          "name": "stdout",
          "output_type": "stream",
          "text": [
            "----------------------------------------------------------------\n",
            "        Layer (type)               Output Shape         Param #\n",
            "================================================================\n",
            "            Conv1d-1              [-1, 20, 800]             440\n",
            "              ReLU-2              [-1, 20, 800]               0\n",
            "       BatchNorm1d-3              [-1, 20, 800]              40\n",
            "           Dropout-4              [-1, 20, 800]               0\n",
            "          TCNBlock-5              [-1, 20, 800]               0\n",
            "            Conv1d-6              [-1, 20, 800]           8,420\n",
            "              ReLU-7              [-1, 20, 800]               0\n",
            "       BatchNorm1d-8              [-1, 20, 800]              40\n",
            "           Dropout-9              [-1, 20, 800]               0\n",
            "         TCNBlock-10              [-1, 20, 800]               0\n",
            "           Conv1d-11              [-1, 20, 800]           8,420\n",
            "             ReLU-12              [-1, 20, 800]               0\n",
            "      BatchNorm1d-13              [-1, 20, 800]              40\n",
            "          Dropout-14              [-1, 20, 800]               0\n",
            "         TCNBlock-15              [-1, 20, 800]               0\n",
            "           Conv1d-16              [-1, 20, 800]           8,420\n",
            "             ReLU-17              [-1, 20, 800]               0\n",
            "      BatchNorm1d-18              [-1, 20, 800]              40\n",
            "          Dropout-19              [-1, 20, 800]               0\n",
            "         TCNBlock-20              [-1, 20, 800]               0\n",
            "           Conv1d-21              [-1, 20, 800]           8,420\n",
            "             ReLU-22              [-1, 20, 800]               0\n",
            "      BatchNorm1d-23              [-1, 20, 800]              40\n",
            "          Dropout-24              [-1, 20, 800]               0\n",
            "         TCNBlock-25              [-1, 20, 800]               0\n",
            "           Conv1d-26               [-1, 8, 800]             168\n",
            "       TCNEncoder-27                [-1, 8, 80]               0\n",
            "         Upsample-28               [-1, 8, 800]               0\n",
            "           Conv1d-29              [-1, 20, 800]           3,380\n",
            "             ReLU-30              [-1, 20, 800]               0\n",
            "      BatchNorm1d-31              [-1, 20, 800]              40\n",
            "          Dropout-32              [-1, 20, 800]               0\n",
            "         TCNBlock-33              [-1, 20, 800]               0\n",
            "           Conv1d-34              [-1, 20, 800]           8,420\n",
            "             ReLU-35              [-1, 20, 800]               0\n",
            "      BatchNorm1d-36              [-1, 20, 800]              40\n",
            "          Dropout-37              [-1, 20, 800]               0\n",
            "         TCNBlock-38              [-1, 20, 800]               0\n",
            "           Conv1d-39              [-1, 20, 800]           8,420\n",
            "             ReLU-40              [-1, 20, 800]               0\n",
            "      BatchNorm1d-41              [-1, 20, 800]              40\n",
            "          Dropout-42              [-1, 20, 800]               0\n",
            "         TCNBlock-43              [-1, 20, 800]               0\n",
            "           Conv1d-44              [-1, 20, 800]           8,420\n",
            "             ReLU-45              [-1, 20, 800]               0\n",
            "      BatchNorm1d-46              [-1, 20, 800]              40\n",
            "          Dropout-47              [-1, 20, 800]               0\n",
            "         TCNBlock-48              [-1, 20, 800]               0\n",
            "           Conv1d-49              [-1, 20, 800]           8,420\n",
            "             ReLU-50              [-1, 20, 800]               0\n",
            "      BatchNorm1d-51              [-1, 20, 800]              40\n",
            "          Dropout-52              [-1, 20, 800]               0\n",
            "         TCNBlock-53              [-1, 20, 800]               0\n",
            "           Conv1d-54               [-1, 1, 800]              21\n",
            "       TCNDecoder-55               [-1, 1, 800]               0\n",
            "================================================================\n",
            "Total params: 71,769\n",
            "Trainable params: 71,769\n",
            "Non-trainable params: 0\n",
            "----------------------------------------------------------------\n",
            "Input size (MB): 0.00\n",
            "Forward/backward pass size (MB): 6.22\n",
            "Params size (MB): 0.27\n",
            "Estimated Total Size (MB): 6.50\n",
            "----------------------------------------------------------------\n"
          ]
        }
      ],
      "source": [
        "summary(model, (1, 800))"
      ]
    },
    {
      "cell_type": "code",
      "execution_count": 30,
      "metadata": {
        "id": "NlSXIdz2--em"
      },
      "outputs": [],
      "source": [
        "# Create a DataLoader, dans cette partie pas de shuffle\n",
        "batch_size = 64\n",
        "train_loader = torch.utils.data.DataLoader(\n",
        "    train_data_normalized, batch_size=batch_size\n",
        ")"
      ]
    },
    {
      "cell_type": "code",
      "execution_count": 31,
      "metadata": {
        "colab": {
          "base_uri": "https://localhost:8080/"
        },
        "id": "f8dBq3YL4n3p",
        "outputId": "0c4da1fc-7d59-4157-d9fb-c9ee0cf098fb"
      },
      "outputs": [
        {
          "data": {
            "text/plain": [
              "722"
            ]
          },
          "execution_count": 31,
          "metadata": {},
          "output_type": "execute_result"
        }
      ],
      "source": [
        "len(train_loader)"
      ]
    },
    {
      "cell_type": "code",
      "execution_count": 32,
      "metadata": {
        "id": "4mCNFUyNSZd6"
      },
      "outputs": [],
      "source": [
        "criterion2 = nn.MSELoss(reduction='none')"
      ]
    },
    {
      "cell_type": "code",
      "execution_count": 33,
      "metadata": {
        "colab": {
          "base_uri": "https://localhost:8080/"
        },
        "id": "ZaZOH39Z_K6f",
        "outputId": "5e6801d5-ecf2-4064-83a6-8f90b04d6568"
      },
      "outputs": [
        {
          "name": "stdout",
          "output_type": "stream",
          "text": [
            "Epoch 1/332: reconstruction_error_mse=0.254537 et mae=0.25519\n",
            "Epoch 2/332: reconstruction_error_mse=0.181566 et mae=0.224706\n",
            "Epoch 3/332: reconstruction_error_mse=0.153037 et mae=0.211494\n",
            "Epoch 4/332: reconstruction_error_mse=0.139430 et mae=0.204898\n",
            "Epoch 5/332: reconstruction_error_mse=0.129463 et mae=0.201203\n",
            "Epoch 6/332: reconstruction_error_mse=0.122796 et mae=0.197568\n",
            "Epoch 7/332: reconstruction_error_mse=0.119364 et mae=0.195905\n",
            "Epoch 8/332: reconstruction_error_mse=0.116682 et mae=0.194803\n",
            "Epoch 9/332: reconstruction_error_mse=0.119566 et mae=0.194179\n",
            "Epoch 10/332: reconstruction_error_mse=0.113298 et mae=0.193028\n",
            "Epoch 11/332: reconstruction_error_mse=0.110584 et mae=0.192301\n",
            "Epoch 12/332: reconstruction_error_mse=0.110014 et mae=0.192472\n",
            "Epoch 13/332: reconstruction_error_mse=0.109718 et mae=0.191642\n",
            "Epoch 14/332: reconstruction_error_mse=0.107498 et mae=0.191678\n",
            "Epoch 15/332: reconstruction_error_mse=0.107492 et mae=0.191088\n",
            "Epoch 16/332: reconstruction_error_mse=0.104938 et mae=0.190419\n",
            "Epoch 17/332: reconstruction_error_mse=0.105044 et mae=0.19076\n",
            "Epoch 18/332: reconstruction_error_mse=0.105316 et mae=0.190745\n",
            "Epoch 19/332: reconstruction_error_mse=0.106416 et mae=0.191047\n",
            "Epoch 20/332: reconstruction_error_mse=0.103693 et mae=0.190455\n",
            "Epoch 21/332: reconstruction_error_mse=0.104193 et mae=0.190704\n",
            "Epoch 22/332: reconstruction_error_mse=0.103884 et mae=0.190449\n",
            "Epoch 23/332: reconstruction_error_mse=0.102906 et mae=0.190352\n",
            "Epoch 24/332: reconstruction_error_mse=0.103504 et mae=0.190101\n",
            "Epoch 25/332: reconstruction_error_mse=0.102132 et mae=0.190549\n",
            "Epoch 26/332: reconstruction_error_mse=0.102793 et mae=0.19061\n",
            "Epoch 27/332: reconstruction_error_mse=0.102830 et mae=0.190892\n",
            "Epoch 28/332: reconstruction_error_mse=0.102010 et mae=0.190314\n",
            "Epoch 29/332: reconstruction_error_mse=0.102305 et mae=0.19035\n",
            "Epoch 30/332: reconstruction_error_mse=0.101094 et mae=0.190651\n",
            "Epoch 31/332: reconstruction_error_mse=0.101508 et mae=0.190846\n",
            "Epoch 32/332: reconstruction_error_mse=0.102031 et mae=0.191033\n",
            "Epoch 33/332: reconstruction_error_mse=0.102302 et mae=0.190854\n",
            "Epoch 34/332: reconstruction_error_mse=0.100627 et mae=0.190284\n",
            "Epoch 35/332: reconstruction_error_mse=0.100567 et mae=0.190244\n",
            "Epoch 36/332: reconstruction_error_mse=0.100308 et mae=0.190152\n",
            "Epoch 37/332: reconstruction_error_mse=0.099882 et mae=0.190345\n",
            "Epoch 38/332: reconstruction_error_mse=0.099948 et mae=0.19047\n",
            "Epoch 39/332: reconstruction_error_mse=0.100291 et mae=0.190409\n",
            "Epoch 40/332: reconstruction_error_mse=0.100670 et mae=0.190348\n",
            "Epoch 41/332: reconstruction_error_mse=0.099956 et mae=0.190322\n",
            "Epoch 42/332: reconstruction_error_mse=0.100015 et mae=0.190253\n",
            "Epoch 43/332: reconstruction_error_mse=0.101197 et mae=0.190813\n",
            "Epoch 44/332: reconstruction_error_mse=0.103019 et mae=0.190502\n",
            "Epoch 45/332: reconstruction_error_mse=0.100281 et mae=0.190239\n",
            "Epoch 46/332: reconstruction_error_mse=0.099105 et mae=0.189661\n",
            "Epoch 47/332: reconstruction_error_mse=0.098952 et mae=0.189577\n",
            "Epoch 48/332: reconstruction_error_mse=0.098752 et mae=0.189723\n",
            "Epoch 49/332: reconstruction_error_mse=0.100115 et mae=0.190079\n",
            "Epoch 50/332: reconstruction_error_mse=0.099425 et mae=0.190056\n",
            "Epoch 51/332: reconstruction_error_mse=0.099362 et mae=0.189578\n",
            "Epoch 52/332: reconstruction_error_mse=0.098577 et mae=0.189922\n",
            "Epoch 53/332: reconstruction_error_mse=0.098775 et mae=0.189565\n",
            "Epoch 54/332: reconstruction_error_mse=0.098365 et mae=0.189406\n",
            "Epoch 55/332: reconstruction_error_mse=0.098248 et mae=0.189378\n",
            "Epoch 56/332: reconstruction_error_mse=0.099170 et mae=0.189759\n",
            "Epoch 57/332: reconstruction_error_mse=0.099772 et mae=0.190493\n",
            "Epoch 58/332: reconstruction_error_mse=0.098124 et mae=0.189369\n",
            "Epoch 59/332: reconstruction_error_mse=0.097832 et mae=0.189149\n",
            "Epoch 60/332: reconstruction_error_mse=0.097841 et mae=0.189084\n",
            "Epoch 61/332: reconstruction_error_mse=0.098389 et mae=0.189365\n",
            "Epoch 62/332: reconstruction_error_mse=0.098811 et mae=0.189269\n",
            "Epoch 63/332: reconstruction_error_mse=0.099780 et mae=0.189782\n",
            "Epoch 64/332: reconstruction_error_mse=0.098382 et mae=0.189253\n",
            "Epoch 65/332: reconstruction_error_mse=0.097886 et mae=0.189248\n",
            "Epoch 66/332: reconstruction_error_mse=0.097643 et mae=0.189052\n",
            "Epoch 67/332: reconstruction_error_mse=0.097862 et mae=0.18913\n",
            "Epoch 68/332: reconstruction_error_mse=0.097819 et mae=0.188988\n",
            "Epoch 69/332: reconstruction_error_mse=0.097323 et mae=0.188878\n",
            "Epoch 70/332: reconstruction_error_mse=0.097072 et mae=0.188879\n",
            "Epoch 71/332: reconstruction_error_mse=0.097392 et mae=0.189093\n",
            "Epoch 72/332: reconstruction_error_mse=0.097453 et mae=0.189146\n",
            "Epoch 73/332: reconstruction_error_mse=0.096821 et mae=0.188928\n",
            "Epoch 74/332: reconstruction_error_mse=0.097032 et mae=0.189115\n",
            "Epoch 75/332: reconstruction_error_mse=0.097394 et mae=0.18911\n",
            "Epoch 76/332: reconstruction_error_mse=0.097274 et mae=0.188997\n",
            "Epoch 77/332: reconstruction_error_mse=0.097212 et mae=0.189153\n",
            "Epoch 78/332: reconstruction_error_mse=0.098647 et mae=0.189533\n",
            "Epoch 79/332: reconstruction_error_mse=0.098095 et mae=0.189717\n",
            "Epoch 80/332: reconstruction_error_mse=0.096865 et mae=0.189271\n",
            "Epoch 81/332: reconstruction_error_mse=0.097060 et mae=0.189058\n",
            "Epoch 82/332: reconstruction_error_mse=0.096411 et mae=0.188943\n",
            "Epoch 83/332: reconstruction_error_mse=0.096188 et mae=0.188932\n",
            "Epoch 84/332: reconstruction_error_mse=0.097165 et mae=0.189291\n",
            "Epoch 85/332: reconstruction_error_mse=0.095922 et mae=0.189035\n",
            "Epoch 86/332: reconstruction_error_mse=0.096274 et mae=0.189247\n",
            "Epoch 87/332: reconstruction_error_mse=0.096299 et mae=0.189387\n",
            "Epoch 88/332: reconstruction_error_mse=0.096472 et mae=0.189575\n",
            "Epoch 89/332: reconstruction_error_mse=0.096840 et mae=0.189615\n",
            "Epoch 90/332: reconstruction_error_mse=0.096030 et mae=0.189726\n",
            "Epoch 91/332: reconstruction_error_mse=0.096029 et mae=0.189336\n",
            "Epoch 92/332: reconstruction_error_mse=0.095635 et mae=0.18932\n",
            "Epoch 93/332: reconstruction_error_mse=0.095930 et mae=0.189528\n",
            "Epoch 94/332: reconstruction_error_mse=0.095939 et mae=0.189514\n",
            "Epoch 95/332: reconstruction_error_mse=0.095761 et mae=0.189502\n",
            "Epoch 96/332: reconstruction_error_mse=0.095666 et mae=0.189633\n",
            "Epoch 97/332: reconstruction_error_mse=0.096795 et mae=0.189911\n",
            "Epoch 98/332: reconstruction_error_mse=0.097698 et mae=0.190298\n",
            "Epoch 99/332: reconstruction_error_mse=0.095936 et mae=0.189924\n",
            "Epoch 100/332: reconstruction_error_mse=0.095770 et mae=0.189924\n",
            "Epoch 101/332: reconstruction_error_mse=0.095544 et mae=0.189831\n",
            "Epoch 102/332: reconstruction_error_mse=0.095465 et mae=0.189851\n",
            "Epoch 103/332: reconstruction_error_mse=0.096109 et mae=0.189874\n",
            "Epoch 104/332: reconstruction_error_mse=0.095238 et mae=0.189896\n",
            "Epoch 105/332: reconstruction_error_mse=0.095486 et mae=0.189821\n",
            "Epoch 106/332: reconstruction_error_mse=0.095193 et mae=0.189936\n",
            "Epoch 107/332: reconstruction_error_mse=0.095478 et mae=0.189744\n",
            "Epoch 108/332: reconstruction_error_mse=0.094982 et mae=0.189953\n",
            "Epoch 109/332: reconstruction_error_mse=0.095177 et mae=0.189931\n",
            "Epoch 110/332: reconstruction_error_mse=0.095228 et mae=0.190111\n",
            "Epoch 111/332: reconstruction_error_mse=0.095131 et mae=0.190114\n",
            "Epoch 112/332: reconstruction_error_mse=0.095530 et mae=0.190506\n",
            "Epoch 113/332: reconstruction_error_mse=0.095244 et mae=0.190379\n",
            "Epoch 114/332: reconstruction_error_mse=0.095006 et mae=0.190438\n",
            "Epoch 115/332: reconstruction_error_mse=0.095407 et mae=0.190525\n",
            "Epoch 116/332: reconstruction_error_mse=0.096156 et mae=0.191006\n",
            "Epoch 117/332: reconstruction_error_mse=0.095946 et mae=0.190843\n",
            "Epoch 118/332: reconstruction_error_mse=0.095206 et mae=0.190694\n",
            "Epoch 119/332: reconstruction_error_mse=0.095024 et mae=0.190564\n",
            "Epoch 120/332: reconstruction_error_mse=0.095001 et mae=0.190569\n",
            "Epoch 121/332: reconstruction_error_mse=0.094632 et mae=0.19041\n",
            "Epoch 122/332: reconstruction_error_mse=0.094696 et mae=0.190505\n",
            "Epoch 123/332: reconstruction_error_mse=0.094686 et mae=0.190682\n",
            "Epoch 124/332: reconstruction_error_mse=0.094431 et mae=0.190663\n",
            "Epoch 125/332: reconstruction_error_mse=0.094864 et mae=0.191012\n",
            "Epoch 126/332: reconstruction_error_mse=0.094710 et mae=0.190959\n",
            "Epoch 127/332: reconstruction_error_mse=0.094770 et mae=0.19089\n",
            "Epoch 128/332: reconstruction_error_mse=0.094841 et mae=0.190971\n",
            "Epoch 129/332: reconstruction_error_mse=0.094460 et mae=0.190891\n",
            "Epoch 130/332: reconstruction_error_mse=0.094702 et mae=0.190904\n",
            "Epoch 131/332: reconstruction_error_mse=0.094955 et mae=0.190991\n",
            "Epoch 132/332: reconstruction_error_mse=0.095731 et mae=0.191357\n",
            "Epoch 133/332: reconstruction_error_mse=0.095306 et mae=0.191483\n",
            "Epoch 134/332: reconstruction_error_mse=0.094581 et mae=0.19114\n",
            "Epoch 135/332: reconstruction_error_mse=0.094579 et mae=0.19123\n",
            "Epoch 136/332: reconstruction_error_mse=0.094367 et mae=0.191077\n",
            "Epoch 137/332: reconstruction_error_mse=0.094399 et mae=0.191203\n",
            "Epoch 138/332: reconstruction_error_mse=0.094172 et mae=0.191082\n",
            "Epoch 139/332: reconstruction_error_mse=0.093896 et mae=0.191103\n",
            "Epoch 140/332: reconstruction_error_mse=0.094522 et mae=0.191239\n",
            "Epoch 141/332: reconstruction_error_mse=0.094302 et mae=0.191104\n",
            "Epoch 142/332: reconstruction_error_mse=0.094892 et mae=0.191508\n",
            "Epoch 143/332: reconstruction_error_mse=0.094156 et mae=0.191214\n",
            "Epoch 144/332: reconstruction_error_mse=0.094057 et mae=0.191394\n",
            "Epoch 145/332: reconstruction_error_mse=0.094116 et mae=0.19122\n",
            "Epoch 146/332: reconstruction_error_mse=0.094224 et mae=0.191498\n",
            "Epoch 147/332: reconstruction_error_mse=0.095397 et mae=0.19181\n",
            "Epoch 148/332: reconstruction_error_mse=0.094878 et mae=0.19205\n",
            "Epoch 149/332: reconstruction_error_mse=0.094174 et mae=0.191668\n",
            "Epoch 150/332: reconstruction_error_mse=0.094564 et mae=0.191731\n",
            "Epoch 151/332: reconstruction_error_mse=0.093950 et mae=0.191464\n",
            "Epoch 152/332: reconstruction_error_mse=0.093999 et mae=0.19155\n",
            "Epoch 153/332: reconstruction_error_mse=0.093838 et mae=0.191435\n",
            "Epoch 154/332: reconstruction_error_mse=0.093858 et mae=0.191596\n",
            "Epoch 155/332: reconstruction_error_mse=0.093885 et mae=0.19169\n",
            "Epoch 156/332: reconstruction_error_mse=0.093910 et mae=0.191517\n",
            "Epoch 157/332: reconstruction_error_mse=0.094103 et mae=0.191693\n",
            "Epoch 158/332: reconstruction_error_mse=0.094279 et mae=0.191848\n",
            "Epoch 159/332: reconstruction_error_mse=0.095187 et mae=0.192247\n",
            "Epoch 160/332: reconstruction_error_mse=0.094763 et mae=0.192285\n",
            "Epoch 161/332: reconstruction_error_mse=0.094238 et mae=0.191961\n",
            "Epoch 162/332: reconstruction_error_mse=0.093756 et mae=0.191918\n",
            "Epoch 163/332: reconstruction_error_mse=0.094193 et mae=0.191804\n",
            "Epoch 164/332: reconstruction_error_mse=0.094375 et mae=0.192058\n",
            "Epoch 165/332: reconstruction_error_mse=0.094018 et mae=0.191808\n",
            "Epoch 166/332: reconstruction_error_mse=0.093831 et mae=0.191946\n",
            "Epoch 167/332: reconstruction_error_mse=0.093881 et mae=0.191745\n",
            "Epoch 168/332: reconstruction_error_mse=0.094069 et mae=0.191992\n",
            "Epoch 169/332: reconstruction_error_mse=0.093893 et mae=0.191902\n",
            "Epoch 170/332: reconstruction_error_mse=0.093791 et mae=0.191979\n",
            "Epoch 171/332: reconstruction_error_mse=0.093885 et mae=0.191794\n",
            "Epoch 172/332: reconstruction_error_mse=0.093843 et mae=0.191991\n",
            "Epoch 173/332: reconstruction_error_mse=0.093554 et mae=0.191847\n",
            "Epoch 174/332: reconstruction_error_mse=0.093777 et mae=0.191912\n",
            "Epoch 175/332: reconstruction_error_mse=0.093785 et mae=0.192044\n",
            "Epoch 176/332: reconstruction_error_mse=0.093951 et mae=0.192096\n",
            "Epoch 177/332: reconstruction_error_mse=0.093764 et mae=0.192116\n",
            "Epoch 178/332: reconstruction_error_mse=0.093499 et mae=0.191941\n",
            "Epoch 179/332: reconstruction_error_mse=0.093348 et mae=0.192055\n",
            "Epoch 180/332: reconstruction_error_mse=0.093600 et mae=0.191964\n",
            "Epoch 181/332: reconstruction_error_mse=0.093543 et mae=0.192222\n",
            "Epoch 182/332: reconstruction_error_mse=0.093546 et mae=0.191977\n",
            "Epoch 183/332: reconstruction_error_mse=0.093890 et mae=0.192049\n",
            "Epoch 184/332: reconstruction_error_mse=0.093369 et mae=0.191994\n",
            "Epoch 185/332: reconstruction_error_mse=0.093594 et mae=0.191951\n",
            "Epoch 186/332: reconstruction_error_mse=0.093230 et mae=0.191964\n",
            "Epoch 187/332: reconstruction_error_mse=0.093849 et mae=0.191888\n",
            "Epoch 188/332: reconstruction_error_mse=0.093270 et mae=0.19195\n",
            "Epoch 189/332: reconstruction_error_mse=0.093550 et mae=0.191972\n",
            "Epoch 190/332: reconstruction_error_mse=0.093857 et mae=0.192097\n",
            "Epoch 191/332: reconstruction_error_mse=0.093796 et mae=0.192238\n",
            "Epoch 192/332: reconstruction_error_mse=0.093932 et mae=0.19232\n",
            "Epoch 193/332: reconstruction_error_mse=0.093794 et mae=0.192199\n",
            "Epoch 194/332: reconstruction_error_mse=0.093803 et mae=0.19213\n",
            "Epoch 195/332: reconstruction_error_mse=0.093438 et mae=0.191988\n",
            "Epoch 196/332: reconstruction_error_mse=0.093598 et mae=0.19229\n",
            "Epoch 197/332: reconstruction_error_mse=0.093258 et mae=0.191919\n",
            "Epoch 198/332: reconstruction_error_mse=0.093388 et mae=0.192075\n",
            "Epoch 199/332: reconstruction_error_mse=0.093073 et mae=0.191858\n",
            "Epoch 200/332: reconstruction_error_mse=0.093016 et mae=0.191975\n",
            "Epoch 201/332: reconstruction_error_mse=0.093532 et mae=0.191785\n",
            "Epoch 202/332: reconstruction_error_mse=0.093262 et mae=0.192158\n",
            "Epoch 203/332: reconstruction_error_mse=0.092723 et mae=0.191802\n",
            "Epoch 204/332: reconstruction_error_mse=0.092863 et mae=0.191717\n",
            "Epoch 205/332: reconstruction_error_mse=0.093089 et mae=0.191793\n",
            "Epoch 206/332: reconstruction_error_mse=0.092928 et mae=0.191746\n",
            "Epoch 207/332: reconstruction_error_mse=0.093438 et mae=0.191992\n",
            "Epoch 208/332: reconstruction_error_mse=0.093637 et mae=0.192169\n",
            "Epoch 209/332: reconstruction_error_mse=0.093126 et mae=0.1918\n",
            "Epoch 210/332: reconstruction_error_mse=0.093033 et mae=0.191885\n",
            "Epoch 211/332: reconstruction_error_mse=0.092852 et mae=0.191792\n",
            "Epoch 212/332: reconstruction_error_mse=0.093238 et mae=0.192103\n",
            "Epoch 213/332: reconstruction_error_mse=0.093066 et mae=0.191795\n",
            "Epoch 214/332: reconstruction_error_mse=0.092757 et mae=0.191886\n",
            "Epoch 215/332: reconstruction_error_mse=0.092859 et mae=0.191684\n",
            "Epoch 216/332: reconstruction_error_mse=0.092994 et mae=0.191681\n",
            "Epoch 217/332: reconstruction_error_mse=0.093186 et mae=0.191849\n",
            "Epoch 218/332: reconstruction_error_mse=0.092741 et mae=0.191768\n",
            "Epoch 219/332: reconstruction_error_mse=0.092724 et mae=0.191721\n",
            "Epoch 220/332: reconstruction_error_mse=0.092820 et mae=0.191765\n",
            "Epoch 221/332: reconstruction_error_mse=0.092708 et mae=0.191616\n",
            "Epoch 222/332: reconstruction_error_mse=0.092981 et mae=0.191511\n",
            "Epoch 223/332: reconstruction_error_mse=0.093072 et mae=0.191768\n",
            "Epoch 224/332: reconstruction_error_mse=0.092820 et mae=0.191754\n",
            "Epoch 225/332: reconstruction_error_mse=0.093176 et mae=0.1921\n",
            "Epoch 226/332: reconstruction_error_mse=0.093043 et mae=0.191825\n",
            "Epoch 227/332: reconstruction_error_mse=0.092906 et mae=0.19165\n",
            "Epoch 228/332: reconstruction_error_mse=0.092379 et mae=0.191595\n",
            "Epoch 229/332: reconstruction_error_mse=0.092884 et mae=0.191723\n",
            "Epoch 230/332: reconstruction_error_mse=0.092657 et mae=0.191692\n",
            "Epoch 231/332: reconstruction_error_mse=0.092748 et mae=0.191591\n",
            "Epoch 232/332: reconstruction_error_mse=0.092716 et mae=0.191648\n",
            "Epoch 233/332: reconstruction_error_mse=0.094274 et mae=0.192166\n",
            "Epoch 234/332: reconstruction_error_mse=0.093356 et mae=0.19206\n",
            "Epoch 235/332: reconstruction_error_mse=0.092869 et mae=0.191797\n",
            "Epoch 236/332: reconstruction_error_mse=0.092432 et mae=0.191516\n",
            "Epoch 237/332: reconstruction_error_mse=0.092363 et mae=0.191417\n",
            "Epoch 238/332: reconstruction_error_mse=0.092523 et mae=0.191447\n",
            "Epoch 239/332: reconstruction_error_mse=0.092657 et mae=0.191345\n",
            "Epoch 240/332: reconstruction_error_mse=0.092571 et mae=0.191359\n",
            "Epoch 241/332: reconstruction_error_mse=0.092516 et mae=0.191429\n",
            "Epoch 242/332: reconstruction_error_mse=0.092340 et mae=0.191436\n",
            "Epoch 243/332: reconstruction_error_mse=0.092731 et mae=0.191514\n",
            "Epoch 244/332: reconstruction_error_mse=0.092652 et mae=0.191692\n",
            "Epoch 245/332: reconstruction_error_mse=0.093218 et mae=0.191962\n",
            "Epoch 246/332: reconstruction_error_mse=0.093019 et mae=0.191857\n",
            "Epoch 247/332: reconstruction_error_mse=0.092556 et mae=0.191689\n",
            "Epoch 248/332: reconstruction_error_mse=0.092683 et mae=0.191412\n",
            "Epoch 249/332: reconstruction_error_mse=0.092333 et mae=0.191329\n",
            "Epoch 250/332: reconstruction_error_mse=0.092157 et mae=0.191342\n",
            "Epoch 251/332: reconstruction_error_mse=0.092304 et mae=0.191172\n",
            "Epoch 252/332: reconstruction_error_mse=0.091950 et mae=0.191234\n",
            "Epoch 253/332: reconstruction_error_mse=0.092338 et mae=0.191187\n",
            "Epoch 254/332: reconstruction_error_mse=0.092439 et mae=0.191364\n",
            "Epoch 255/332: reconstruction_error_mse=0.092258 et mae=0.191295\n",
            "Epoch 256/332: reconstruction_error_mse=0.092371 et mae=0.191336\n",
            "Epoch 257/332: reconstruction_error_mse=0.092445 et mae=0.19117\n",
            "Epoch 258/332: reconstruction_error_mse=0.092280 et mae=0.191215\n",
            "Epoch 259/332: reconstruction_error_mse=0.092329 et mae=0.191164\n",
            "Epoch 260/332: reconstruction_error_mse=0.092887 et mae=0.191496\n",
            "Epoch 261/332: reconstruction_error_mse=0.093001 et mae=0.19159\n",
            "Epoch 262/332: reconstruction_error_mse=0.092270 et mae=0.19141\n",
            "Epoch 263/332: reconstruction_error_mse=0.092383 et mae=0.191355\n",
            "Epoch 264/332: reconstruction_error_mse=0.092574 et mae=0.191386\n",
            "Epoch 265/332: reconstruction_error_mse=0.092220 et mae=0.191227\n",
            "Epoch 266/332: reconstruction_error_mse=0.092485 et mae=0.191538\n",
            "Epoch 267/332: reconstruction_error_mse=0.092378 et mae=0.191166\n",
            "Epoch 268/332: reconstruction_error_mse=0.092084 et mae=0.191337\n",
            "Epoch 269/332: reconstruction_error_mse=0.092437 et mae=0.191216\n",
            "Epoch 270/332: reconstruction_error_mse=0.092281 et mae=0.191187\n",
            "Epoch 271/332: reconstruction_error_mse=0.092187 et mae=0.191227\n",
            "Epoch 272/332: reconstruction_error_mse=0.092085 et mae=0.191201\n",
            "Epoch 273/332: reconstruction_error_mse=0.091974 et mae=0.191105\n",
            "Epoch 274/332: reconstruction_error_mse=0.091972 et mae=0.191089\n",
            "Epoch 275/332: reconstruction_error_mse=0.092236 et mae=0.191147\n",
            "Epoch 276/332: reconstruction_error_mse=0.091973 et mae=0.191154\n",
            "Epoch 277/332: reconstruction_error_mse=0.092511 et mae=0.191449\n",
            "Epoch 278/332: reconstruction_error_mse=0.092464 et mae=0.191413\n",
            "Epoch 279/332: reconstruction_error_mse=0.092056 et mae=0.191322\n",
            "Epoch 280/332: reconstruction_error_mse=0.091910 et mae=0.191065\n",
            "Epoch 281/332: reconstruction_error_mse=0.091875 et mae=0.191239\n",
            "Epoch 282/332: reconstruction_error_mse=0.092038 et mae=0.190935\n",
            "Epoch 283/332: reconstruction_error_mse=0.092263 et mae=0.191392\n",
            "Epoch 284/332: reconstruction_error_mse=0.092488 et mae=0.191323\n",
            "Epoch 285/332: reconstruction_error_mse=0.092127 et mae=0.191369\n",
            "Epoch 286/332: reconstruction_error_mse=0.092218 et mae=0.19135\n",
            "Epoch 287/332: reconstruction_error_mse=0.092088 et mae=0.191149\n",
            "Epoch 288/332: reconstruction_error_mse=0.091922 et mae=0.191378\n",
            "Epoch 289/332: reconstruction_error_mse=0.092226 et mae=0.191304\n",
            "Epoch 290/332: reconstruction_error_mse=0.092658 et mae=0.191663\n",
            "Epoch 291/332: reconstruction_error_mse=0.092894 et mae=0.19191\n",
            "Epoch 292/332: reconstruction_error_mse=0.092097 et mae=0.19169\n",
            "Epoch 293/332: reconstruction_error_mse=0.091868 et mae=0.19151\n",
            "Epoch 294/332: reconstruction_error_mse=0.092203 et mae=0.191384\n",
            "Epoch 295/332: reconstruction_error_mse=0.092107 et mae=0.191328\n",
            "Epoch 296/332: reconstruction_error_mse=0.092292 et mae=0.191385\n",
            "Epoch 297/332: reconstruction_error_mse=0.091905 et mae=0.19138\n",
            "Epoch 298/332: reconstruction_error_mse=0.092294 et mae=0.191476\n",
            "Epoch 299/332: reconstruction_error_mse=0.092090 et mae=0.191549\n",
            "Epoch 300/332: reconstruction_error_mse=0.091882 et mae=0.191426\n",
            "Epoch 301/332: reconstruction_error_mse=0.092212 et mae=0.191542\n",
            "Epoch 302/332: reconstruction_error_mse=0.092273 et mae=0.191801\n",
            "Epoch 303/332: reconstruction_error_mse=0.092117 et mae=0.191487\n",
            "Epoch 304/332: reconstruction_error_mse=0.091952 et mae=0.191503\n",
            "Epoch 305/332: reconstruction_error_mse=0.092324 et mae=0.19146\n",
            "Epoch 306/332: reconstruction_error_mse=0.091916 et mae=0.191466\n",
            "Epoch 307/332: reconstruction_error_mse=0.093009 et mae=0.191863\n",
            "Epoch 308/332: reconstruction_error_mse=0.093016 et mae=0.192089\n",
            "Epoch 309/332: reconstruction_error_mse=0.092074 et mae=0.19177\n",
            "Epoch 310/332: reconstruction_error_mse=0.091915 et mae=0.191553\n",
            "Epoch 311/332: reconstruction_error_mse=0.092011 et mae=0.191313\n",
            "Epoch 312/332: reconstruction_error_mse=0.091730 et mae=0.191396\n",
            "Epoch 313/332: reconstruction_error_mse=0.091751 et mae=0.191482\n",
            "Epoch 314/332: reconstruction_error_mse=0.092125 et mae=0.19136\n",
            "Epoch 315/332: reconstruction_error_mse=0.091779 et mae=0.191359\n",
            "Epoch 316/332: reconstruction_error_mse=0.091767 et mae=0.191336\n",
            "Epoch 317/332: reconstruction_error_mse=0.091828 et mae=0.191325\n",
            "Epoch 318/332: reconstruction_error_mse=0.092472 et mae=0.191687\n",
            "Epoch 319/332: reconstruction_error_mse=0.092235 et mae=0.191588\n",
            "Epoch 320/332: reconstruction_error_mse=0.091983 et mae=0.19145\n",
            "Epoch 321/332: reconstruction_error_mse=0.091798 et mae=0.191159\n",
            "Epoch 322/332: reconstruction_error_mse=0.091491 et mae=0.191057\n",
            "Epoch 323/332: reconstruction_error_mse=0.091806 et mae=0.191107\n",
            "Epoch 324/332: reconstruction_error_mse=0.092054 et mae=0.191442\n",
            "Epoch 325/332: reconstruction_error_mse=0.091606 et mae=0.19123\n",
            "Epoch 326/332: reconstruction_error_mse=0.091535 et mae=0.191076\n",
            "Epoch 327/332: reconstruction_error_mse=0.091495 et mae=0.19098\n",
            "Epoch 328/332: reconstruction_error_mse=0.091706 et mae=0.191195\n",
            "Epoch 329/332: reconstruction_error_mse=0.092034 et mae=0.191147\n",
            "Epoch 330/332: reconstruction_error_mse=0.091690 et mae=0.191259\n",
            "Epoch 331/332: reconstruction_error_mse=0.091837 et mae=0.191006\n",
            "Epoch 332/332: reconstruction_error_mse=0.091733 et mae=0.191024\n",
            " dernier epock mae 0.1910238174565387\n"
          ]
        }
      ],
      "source": [
        "# Training loop\n",
        "num_epochs = 332\n",
        "list_loss = []\n",
        "list_mae = []\n",
        "for epoch in range(num_epochs):\n",
        "    total_loss = 0.0\n",
        "    total_mae = 0.0\n",
        "\n",
        "    for batch_idx, data in enumerate(train_loader):\n",
        "        # Get a batch of training data and move it to the device\n",
        "\n",
        "        data = data.to(device).float()  #\n",
        "        #print(data.shape)\n",
        "        #data = data.float()\n",
        "\n",
        "        data = torch.unsqueeze(data, 1)  # [32, 900] > [32, 1, 900] / 32, 900, 1\n",
        "        #data = data.permute(0, 2, 1)\n",
        "        #print(data.shape)\n",
        "\n",
        "        x_recon= model(data)\n",
        "        #print(f'x_recon shape {x_recon.shape}')\n",
        "\n",
        "        # Compute the loss and perform backpropagation\n",
        "\n",
        "        #print(x_recon.shape)\n",
        "        #print(x_recon.shape)\n",
        "\n",
        "        loss = criterion(x_recon, data)\n",
        "        mae = criterion_mae(x_recon, data)\n",
        "\n",
        "\n",
        "\n",
        "        optimizer.zero_grad()\n",
        "        loss.backward()\n",
        "        optimizer.step()\n",
        "\n",
        "        # Update the running loss\n",
        "        total_loss += loss.item() * data.size(0)\n",
        "        total_mae += mae.item() * data.size(0)\n",
        "\n",
        "        #if epoch == 331 :\n",
        "         # recon_loss_each_seq = criterion2(x_recon, data)\n",
        "\n",
        "\n",
        "    # Print the epoch loss\n",
        "    epoch_loss = total_loss / len(train_loader.dataset)\n",
        "    epoch_mae = total_mae / len(train_loader.dataset)\n",
        "    print(\n",
        "        \"Epoch {}/{}: reconstruction_error_mse={:.6f} et mae={:.6}\".format(epoch + 1, num_epochs, epoch_loss, epoch_mae)\n",
        "    )\n",
        "    list_loss.append(epoch_loss)\n",
        "    list_mae.append(epoch_mae)\n",
        "print(f' dernier epock mae {epoch_mae}')\n"
      ]
    },
    {
      "cell_type": "code",
      "execution_count": 50,
      "metadata": {
        "colab": {
          "base_uri": "https://localhost:8080/",
          "height": 70
        },
        "id": "FZAnMzaGQehK",
        "outputId": "9fd54b8e-5c17-4519-dda3-82c9614f2cb9"
      },
      "outputs": [
        {
          "data": {
            "application/vnd.google.colaboratory.intrinsic+json": {
              "type": "string"
            },
            "text/plain": [
              "\"\\npour récupere les parametres du modèle\\n\\nmodel = TCNAE(in_channels, out_channels, kernel_size, dilation_rates, sampling_factor)\\n# charger les poids\\nmodel.load_state_dict(torch.load('tcn_autoencoder_weights.pth'))\\n# Assurez-vous de définir le modèle sur le bon dispositif (CPU ou GPU)\\nmodel.to(device)\\n\\n\\n\""
            ]
          },
          "execution_count": 50,
          "metadata": {},
          "output_type": "execute_result"
        }
      ],
      "source": [
        "# enregistrer les poids du modèle\n",
        "\n",
        "torch.save(model.state_dict(), '/content/drive/MyDrive/code_H2_/fridge_freezer/fridge_freezer_seq800_chev500/tcn_autoencoder_fridge_freezer_800_chev500weights_332epc.pth')\n",
        "\n",
        "'''\n",
        "pour récupere les parametres du modèle\n",
        "\n",
        "model = TCNAE(in_channels, out_channels, kernel_size, dilation_rates, sampling_factor)\n",
        "# charger les poids\n",
        "model.load_state_dict(torch.load('tcn_autoencoder_weights.pth'))\n",
        "# Assurez-vous de définir le modèle sur le bon dispositif (CPU ou GPU)\n",
        "model.to(device)\n",
        "\n",
        "\n",
        "'''\n"
      ]
    },
    {
      "cell_type": "code",
      "execution_count": null,
      "metadata": {
        "colab": {
          "base_uri": "https://localhost:8080/"
        },
        "id": "XqDFT0zo4qGl",
        "outputId": "4c4f765f-d8c0-48fa-fab7-050b94d048ed"
      },
      "outputs": [
        {
          "data": {
            "text/plain": [
              "11.210848432393382"
            ]
          },
          "execution_count": 56,
          "metadata": {},
          "output_type": "execute_result"
        }
      ],
      "source": [
        "31166.158642053604/2780"
      ]
    },
    {
      "cell_type": "code",
      "execution_count": 35,
      "metadata": {
        "colab": {
          "base_uri": "https://localhost:8080/",
          "height": 447
        },
        "id": "pCVstdiF_-sx",
        "outputId": "affab2b4-189a-4eb1-e9e6-b187dbad368e"
      },
      "outputs": [
        {
          "data": {
            "text/plain": [
              "[<matplotlib.lines.Line2D at 0x7ca5789671f0>]"
            ]
          },
          "execution_count": 35,
          "metadata": {},
          "output_type": "execute_result"
        },
        {
          "data": {
            "image/png": "[encoded data removed]",
            "text/plain": [
              "<Figure size 640x480 with 1 Axes>"
            ]
          },
          "metadata": {},
          "output_type": "display_data"
        }
      ],
      "source": [
        "# 2 minuuute to get the first reconstruction error\n",
        "plt.plot(list_loss)"
      ]
    },
    {
      "cell_type": "code",
      "execution_count": 36,
      "metadata": {
        "colab": {
          "base_uri": "https://localhost:8080/",
          "height": 447
        },
        "id": "xxlPz1i-340v",
        "outputId": "f378ec66-6472-4290-ff5f-fa041b78ad4d"
      },
      "outputs": [
        {
          "data": {
            "text/plain": [
              "[<matplotlib.lines.Line2D at 0x7ca567998d60>]"
            ]
          },
          "execution_count": 36,
          "metadata": {},
          "output_type": "execute_result"
        },
        {
          "data": {
            "image/png": "[encoded data removed]",
            "text/plain": [
              "<Figure size 640x480 with 1 Axes>"
            ]
          },
          "metadata": {},
          "output_type": "display_data"
        }
      ],
      "source": [
        "plt.plot(list_mae)"
      ]
    },
    {
      "cell_type": "markdown",
      "metadata": {
        "id": "--EhfGGwAAc7"
      },
      "source": [
        "### on test sur anotated directement"
      ]
    },
    {
      "cell_type": "code",
      "execution_count": null,
      "metadata": {
        "id": "iQyW_STi_x6F"
      },
      "outputs": [],
      "source": [
        "# on a non donner de test les deux en sequence sans chevauchement et normaliser, tesors and then evaluate, test_data,  test_data_anotated\n"
      ]
    },
    {
      "cell_type": "code",
      "execution_count": 37,
      "metadata": {
        "id": "Hpyy93r4AVgx"
      },
      "outputs": [],
      "source": [
        "test = test_data_anotated\n",
        "test = torch.from_numpy(test)\n",
        "test = test.unsqueeze(1)\n",
        "test = test.to(device).float()\n",
        "test = test.float()"
      ]
    },
    {
      "cell_type": "code",
      "execution_count": 41,
      "metadata": {
        "id": "iZmS0Cu_A2UL"
      },
      "outputs": [],
      "source": [
        "#criterion2 = nn.MSELoss(reduction='none')"
      ]
    },
    {
      "cell_type": "code",
      "execution_count": 42,
      "metadata": {
        "id": "yMcjkmd84N6b"
      },
      "outputs": [],
      "source": [
        "# Enregistrer uniquement les poids du modèle (state_dict)\n",
        "#torch.save(model.state_dict(), '/content/drive/MyDrive/code_H2_/model_tcn_200.pth')"
      ]
    },
    {
      "cell_type": "code",
      "execution_count": 38,
      "metadata": {
        "colab": {
          "base_uri": "https://localhost:8080/"
        },
        "id": "MlJH1Busn2Kz",
        "outputId": "4b64f0db-fb93-4296-8077-8f6cdb57a52f"
      },
      "outputs": [
        {
          "name": "stdout",
          "output_type": "stream",
          "text": [
            " mse : 0.06513967365026474\n",
            " rmse : 0.2552247643470764\n",
            "mae : 0.20706042647361755\n",
            "tensor([[[1.0135e-01, 9.9819e-02, 7.7550e-02,  ..., 8.6116e-02,\n",
            "          9.6128e-02, 9.4660e-02]],\n",
            "\n",
            "        [[8.0774e-02, 7.9229e-02, 6.0522e-02,  ..., 8.4783e-02,\n",
            "          8.6197e-02, 8.0284e-02]],\n",
            "\n",
            "        [[7.9636e-02, 7.8721e-02, 6.0100e-02,  ..., 1.0635e-02,\n",
            "          8.8451e-03, 1.1197e-02]],\n",
            "\n",
            "        ...,\n",
            "\n",
            "        [[8.6619e-02, 8.5722e-02, 6.6541e-02,  ..., 4.2838e-04,\n",
            "          1.4391e-03, 1.4169e-05]],\n",
            "\n",
            "        [[5.4572e-02, 5.4917e-02, 6.1031e-02,  ..., 1.0899e-03,\n",
            "          1.3393e-03, 5.9334e-05]],\n",
            "\n",
            "        [[1.7383e-02, 1.7138e-02, 2.7348e-02,  ..., 7.7696e-02,\n",
            "          7.9047e-02, 7.4122e-02]]], device='cuda:0')\n"
          ]
        },
        {
          "name": "stderr",
          "output_type": "stream",
          "text": [
            "UsageError: Line magic function `%` not found.\n"
          ]
        }
      ],
      "source": [
        "# Mettre le modèle en mode évaluation\n",
        "model.eval()\n",
        "\n",
        "# Désactiver la rétropropagation pour économiser de la mémoire\n",
        "with torch.no_grad():\n",
        "    # Passer les données de test à travers le modèle\n",
        "    x_recon = model(test)\n",
        "\n",
        "    # Calculer la perte de reconstruction\n",
        "    recon_loss = criterion(x_recon, test)\n",
        "\n",
        "    recon_loss_mae = criterion_mae(x_recon, test)\n",
        "\n",
        "    recon_loss_each_seq = criterion2(x_recon, test)\n",
        "\n",
        "    rmse = torch.sqrt(recon_loss)\n",
        "\n",
        "    #print(\"Reconstruction Loss on Test Data: {:.4f}\".format(recon_loss))\n",
        "    #print(recon_loss)\n",
        "    print(' mse : {}'.format(recon_loss))\n",
        "    print(' rmse : {}'.format(rmse))\n",
        "    print('mae : {}'.format(recon_loss_mae))\n",
        "    print(recon_loss_each_seq)\n",
        "%"
      ]
    },
    {
      "cell_type": "code",
      "execution_count": 43,
      "metadata": {
        "colab": {
          "base_uri": "https://localhost:8080/"
        },
        "id": "Oui9diaJA4Zw",
        "outputId": "4552ab2c-580f-4b5d-c6e9-89c4f0f1456a"
      },
      "outputs": [
        {
          "name": "stdout",
          "output_type": "stream",
          "text": [
            " mse : 0.07232656329870224\n",
            " rmse : 0.2689359784126282\n",
            "mae : 0.21227476000785828\n",
            "tensor([[[1.3708e-01, 1.3960e-01, 1.1970e-01,  ..., 1.6739e-01,\n",
            "          1.7641e-01, 1.7926e-01]],\n",
            "\n",
            "        [[1.2402e-01, 1.2420e-01, 9.9556e-02,  ..., 1.3328e-01,\n",
            "          1.3337e-01, 1.3542e-01]],\n",
            "\n",
            "        [[1.2090e-01, 1.2073e-01, 9.6157e-02,  ..., 1.0702e-03,\n",
            "          7.5014e-04, 1.7779e-03]],\n",
            "\n",
            "        ...,\n",
            "\n",
            "        [[1.1594e-01, 1.0989e-01, 8.2415e-02,  ..., 2.8856e-03,\n",
            "          1.7559e-03, 5.1176e-03]],\n",
            "\n",
            "        [[7.9277e-05, 5.7584e-05, 2.0364e-04,  ..., 3.7531e-05,\n",
            "          3.6935e-04, 2.3385e-05]],\n",
            "\n",
            "        [[9.6287e-06, 5.4355e-05, 2.3839e-03,  ..., 1.3134e-01,\n",
            "          1.5622e-01, 2.1941e-01]]], device='cuda:0')\n"
          ]
        },
        {
          "name": "stderr",
          "output_type": "stream",
          "text": [
            "UsageError: Line magic function `%` not found.\n"
          ]
        }
      ],
      "source": [
        "# Mettre le modèle en mode évaluation\n",
        "model.eval()\n",
        "\n",
        "# Désactiver la rétropropagation pour économiser de la mémoire\n",
        "with torch.no_grad():\n",
        "    # Passer les données de test à travers le modèle\n",
        "    x_recon = model(test)\n",
        "\n",
        "    # Calculer la perte de reconstruction\n",
        "    recon_loss = criterion(x_recon, test)\n",
        "\n",
        "    recon_loss_mae = criterion_mae(x_recon, test)\n",
        "\n",
        "    recon_loss_each_seq = criterion2(x_recon, test)\n",
        "\n",
        "    rmse = torch.sqrt(recon_loss)\n",
        "\n",
        "    #print(\"Reconstruction Loss on Test Data: {:.4f}\".format(recon_loss))\n",
        "    #print(recon_loss)\n",
        "    print(' mse : {}'.format(recon_loss))\n",
        "    print(' rmse : {}'.format(rmse))\n",
        "    print('mae : {}'.format(recon_loss_mae))\n",
        "    print(recon_loss_each_seq)\n",
        "%"
      ]
    },
    {
      "cell_type": "code",
      "execution_count": 39,
      "metadata": {
        "id": "Isz1FNcXT_gs"
      },
      "outputs": [],
      "source": [
        "# enregistrer la séquence 'x_recon' et la séquence test\n",
        "# enregistrer les séquence\n",
        "np.save('/content/drive/MyDrive/code_H2_/fridge_freezer/fridge_freezer_seq800_chev500/x_recon_tcn_ae_fridge_freezer_800_chev500_epc332.npy', (x_recon.view(-1)).cpu().numpy())\n",
        "# x_reco_loaded = np.load('x_reco.npy')\n"
      ]
    },
    {
      "cell_type": "code",
      "execution_count": 45,
      "metadata": {
        "id": "uW9J03yTHD5v"
      },
      "outputs": [],
      "source": [
        "np.save('/content/drive/MyDrive/code_H2_/fridge_freezer/fridge_freezer_seq800_chev500/seq_test_h3_fridge_freezer.npy', (test.view(-1)).cpu().numpy())\n",
        "# x_reco_loaded = np.load('x_reco.npy')\n"
      ]
    },
    {
      "cell_type": "code",
      "execution_count": null,
      "metadata": {
        "colab": {
          "base_uri": "https://localhost:8080/"
        },
        "id": "u6MU7x_L8gNX",
        "outputId": "e35f491a-a1e5-42f7-a80b-bc5c152ed8e3"
      },
      "outputs": [
        {
          "data": {
            "text/plain": [
              "torch.Size([4676400])"
            ]
          },
          "execution_count": 47,
          "metadata": {},
          "output_type": "execute_result"
        }
      ],
      "source": [
        "(x_recon.view(-1)).shape"
      ]
    },
    {
      "cell_type": "code",
      "execution_count": null,
      "metadata": {
        "colab": {
          "base_uri": "https://localhost:8080/"
        },
        "id": "0ZRjxjoH8gPr",
        "outputId": "e79baf7a-94e0-4416-87fe-5f97758c0552"
      },
      "outputs": [
        {
          "data": {
            "text/plain": [
              "torch.Size([46764, 1, 100])"
            ]
          },
          "execution_count": 48,
          "metadata": {},
          "output_type": "execute_result"
        }
      ],
      "source": [
        "test.shape"
      ]
    },
    {
      "cell_type": "code",
      "execution_count": null,
      "metadata": {
        "colab": {
          "base_uri": "https://localhost:8080/"
        },
        "id": "fBW7hJsH-Cw1",
        "outputId": "3fad475e-78c3-4199-aa81-124e5310c977"
      },
      "outputs": [
        {
          "data": {
            "text/plain": [
              "numpy.ndarray"
            ]
          },
          "execution_count": 55,
          "metadata": {},
          "output_type": "execute_result"
        }
      ],
      "source": [
        "type((x_recon.view(-1))[1:1000].cpu().numpy())"
      ]
    },
    {
      "cell_type": "code",
      "execution_count": 40,
      "metadata": {
        "colab": {
          "base_uri": "https://localhost:8080/",
          "height": 626
        },
        "id": "_QYGr6-f9SEh",
        "outputId": "2539e212-ff6c-4581-9194-4fb14ed639aa"
      },
      "outputs": [
        {
          "data": {
            "image/png": "[encoded data removed]",
            "text/plain": [
              "<Figure size 1800x1000 with 6 Axes>"
            ]
          },
          "metadata": {},
          "output_type": "display_data"
        }
      ],
      "source": [
        "import matplotlib.pyplot as plt\n",
        "import torch\n",
        "\n",
        "# Définir le nombre de séquences à afficher et la taille de chaque séquence\n",
        "num_sequences = 6\n",
        "sequence_length = 1000\n",
        "\n",
        "# Déterminer la longueur totale de la séquence\n",
        "total_length = x_recon.numel()\n",
        "\n",
        "# Générer des indices de départ aléatoires\n",
        "random_indices = torch.randint(0, total_length - sequence_length, (num_sequences,))\n",
        "\n",
        "# Configuration de la figure avec des sous-graphiques (2 lignes, 3 colonnes)\n",
        "fig, axes = plt.subplots(2, 3, figsize=(18, 10), sharex=True, sharey=True)\n",
        "\n",
        "# Affichage de plusieurs séquences pour les données reconstruites et originales\n",
        "for i in range(num_sequences):\n",
        "    start_idx = random_indices[i].item()  # Indice de départ aléatoire\n",
        "    end_idx = start_idx + sequence_length  # Définir le point de fin pour chaque séquence\n",
        "\n",
        "    # Déterminer la position du subplot (ligne, colonne)\n",
        "    row = i // 3\n",
        "    col = i % 3\n",
        "\n",
        "    # Tracer les séquences reconstruites\n",
        "    axes[row, col].plot(\n",
        "        (x_recon.view(-1))[start_idx:end_idx].cpu().numpy(),\n",
        "        label='Reconstruit',\n",
        "        color='red'\n",
        "    )\n",
        "\n",
        "    # Tracer les séquences originales\n",
        "    axes[row, col].plot(\n",
        "        (test.view(-1))[start_idx:end_idx].cpu().numpy(),\n",
        "        label='Original',\n",
        "        color='blue'\n",
        "    )\n",
        "\n",
        "    # Ajouter la légende à chaque sous-graphique\n",
        "    axes[row, col].legend(loc='upper right')\n",
        "    axes[row, col].set_title(f'Séquence {i + 1}')  # Ajouter un titre pour chaque sous-graphique\n",
        "\n",
        "# Ajouter des labels pour les axes communs\n",
        "fig.text(0.5, 0.04, 'Index', ha='center', fontsize=12)\n",
        "fig.text(0.04, 0.5, 'Valeur', va='center', rotation='vertical', fontsize=12)\n",
        "\n",
        "# Afficher la figure avec les sous-graphiques\n",
        "plt.tight_layout(rect=[0.05, 0.05, 1, 0.95])  # Ajuster l'espacement des sous-graphiques\n",
        "plt.show()\n"
      ]
    },
    {
      "cell_type": "code",
      "execution_count": null,
      "metadata": {
        "colab": {
          "base_uri": "https://localhost:8080/"
        },
        "id": "YM3Lj9IS8Cx0",
        "outputId": "99b161bb-969d-48ab-b4e7-9ea4c08c20cd"
      },
      "outputs": [
        {
          "data": {
            "text/plain": [
              "torch.Size([46764, 1, 100])"
            ]
          },
          "execution_count": 45,
          "metadata": {},
          "output_type": "execute_result"
        }
      ],
      "source": [
        "x_recon.shape"
      ]
    },
    {
      "cell_type": "code",
      "execution_count": 41,
      "metadata": {
        "colab": {
          "base_uri": "https://localhost:8080/"
        },
        "id": "v2ReEN9SA6su",
        "outputId": "12c096b2-6c0f-4414-ec22-f8186d900fb3"
      },
      "outputs": [
        {
          "name": "stdout",
          "output_type": "stream",
          "text": [
            "tensor_squeezed torch.Size([5845, 800])\n",
            "(5845, 800)\n"
          ]
        }
      ],
      "source": [
        "# here, i have the reconstruction error of all my test dat, also a matrix of all reconstrucition on each point, what i need is to get the label of each sequence on our test data, 30% 1 => lablel = 1, donne labesl_test\n",
        "tensor_squeezed = recon_loss_each_seq.squeeze(1)\n",
        "print(f'tensor_squeezed {tensor_squeezed.shape}')\n",
        "\n",
        "\n",
        "tensor_squeezed_cpu = tensor_squeezed.cpu()\n",
        "\n",
        "\n",
        "\n",
        "numpy_array = tensor_squeezed_cpu.numpy()\n",
        "print(numpy_array.shape)\n"
      ]
    },
    {
      "cell_type": "code",
      "execution_count": null,
      "metadata": {
        "id": "vn8N9PeC8fK0"
      },
      "outputs": [],
      "source": []
    },
    {
      "cell_type": "code",
      "execution_count": 42,
      "metadata": {
        "id": "x3uFMbMgCd8P"
      },
      "outputs": [],
      "source": [
        "predicter_error =[]\n",
        "\n",
        "for x in numpy_array:\n",
        "    predicter_error.append(x.mean())"
      ]
    },
    {
      "cell_type": "code",
      "execution_count": 43,
      "metadata": {
        "colab": {
          "base_uri": "https://localhost:8080/"
        },
        "id": "fBv0MHQ0NAKx",
        "outputId": "79191534-fbf0-4b55-8792-25f04d1bc690"
      },
      "outputs": [
        {
          "name": "stdout",
          "output_type": "stream",
          "text": [
            "0.11998162913234764\n"
          ]
        }
      ],
      "source": [
        "threshold = np.mean(list_loss) + 2*(np.std(list_loss))\n",
        "print(threshold)"
      ]
    },
    {
      "cell_type": "code",
      "execution_count": 44,
      "metadata": {
        "id": "AT2QIJOcCnXl"
      },
      "outputs": [],
      "source": [
        "predicted = np.where(np.array(predicter_error) > threshold, 1, 0)"
      ]
    },
    {
      "cell_type": "code",
      "execution_count": 45,
      "metadata": {
        "colab": {
          "base_uri": "https://localhost:8080/"
        },
        "id": "-ZnojD5MCqm6",
        "outputId": "8e0b5a1b-2c28-438c-b2fc-c83e6f21c3cf"
      },
      "outputs": [
        {
          "data": {
            "text/plain": [
              "0.11998162913234764"
            ]
          },
          "execution_count": 45,
          "metadata": {},
          "output_type": "execute_result"
        }
      ],
      "source": [
        "threshold"
      ]
    },
    {
      "cell_type": "code",
      "execution_count": 46,
      "metadata": {
        "colab": {
          "base_uri": "https://localhost:8080/"
        },
        "id": "Nq0SrkaDCq01",
        "outputId": "95e2df7d-dc09-4b48-920f-4b5d559ad4fe"
      },
      "outputs": [
        {
          "name": "stdout",
          "output_type": "stream",
          "text": [
            "Accuracy: 0.8464\n",
            "Recall: 0.1910\n",
            "F1-score: 0.1968\n"
          ]
        }
      ],
      "source": [
        "# labesl_test\n",
        "\n",
        "accuracy = accuracy_score(labesl_test, predicted)\n",
        "recall = recall_score(labesl_test, predicted, pos_label=1)\n",
        "f1 = f1_score(labesl_test, predicted, pos_label=1)\n",
        "\n",
        "print(f\"Accuracy: {accuracy:.4f}\")\n",
        "print(f\"Recall: {recall:.4f}\")\n",
        "print(f\"F1-score: {f1:.4f}\")"
      ]
    },
    {
      "cell_type": "code",
      "execution_count": 47,
      "metadata": {
        "colab": {
          "base_uri": "https://localhost:8080/"
        },
        "id": "qYbbJkEHCyZ6",
        "outputId": "dd8118c1-533e-4fde-c3d9-b31b95e746df"
      },
      "outputs": [
        {
          "data": {
            "text/plain": [
              "576"
            ]
          },
          "execution_count": 47,
          "metadata": {},
          "output_type": "execute_result"
        }
      ],
      "source": [
        "labesl_test.sum()"
      ]
    },
    {
      "cell_type": "code",
      "execution_count": 48,
      "metadata": {
        "colab": {
          "base_uri": "https://localhost:8080/"
        },
        "id": "ih4wopAo63-T",
        "outputId": "4bfeb173-c625-4650-a9d4-13b16400e4ed"
      },
      "outputs": [
        {
          "name": "stdout",
          "output_type": "stream",
          "text": [
            "[[4837  432]\n",
            " [ 466  110]]\n"
          ]
        }
      ],
      "source": [
        "cm = confusion_matrix(labesl_test, predicted)\n",
        "print(cm)"
      ]
    },
    {
      "cell_type": "code",
      "execution_count": 49,
      "metadata": {
        "colab": {
          "base_uri": "https://localhost:8080/"
        },
        "id": "y1OFRQ5XCylS",
        "outputId": "749ff5aa-1d21-4a27-c63e-a98a9b35bdd9"
      },
      "outputs": [
        {
          "name": "stdout",
          "output_type": "stream",
          "text": [
            "[[4837  432]\n",
            " [ 466  110]]\n"
          ]
        }
      ],
      "source": [
        "cm = confusion_matrix(labesl_test, predicted)\n",
        "print(cm)"
      ]
    }
  ],
  "metadata": {
    "accelerator": "GPU",
    "colab": {
      "gpuType": "L4",
      "machine_shape": "hm",
      "provenance": []
    },
    "kernelspec": {
      "display_name": "pytorch_venv",
      "language": "python",
      "name": "pytorch_venv"
    },
    "language_info": {
      "name": "python",
      "version": "3.10.7"
    }
  },
  "nbformat": 4,
  "nbformat_minor": 0
}
